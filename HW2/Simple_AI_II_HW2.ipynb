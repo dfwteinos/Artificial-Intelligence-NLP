{
  "nbformat": 4,
  "nbformat_minor": 0,
  "metadata": {
    "accelerator": "GPU",
    "colab": {
      "name": "Simple AI-II-HW2.ipynb",
      "provenance": [],
      "collapsed_sections": [],
      "toc_visible": true
    },
    "kernelspec": {
      "display_name": "Python 3",
      "name": "python3"
    }
  },
  "cells": [
    {
      "cell_type": "markdown",
      "metadata": {
        "id": "vte6gdZ13TZc"
      },
      "source": [
        "# Main idea.\n",
        "\n",
        "The main idea for this project, is to develop a sentiment classifier using **feed-forward** neural network for the [Twitter sentiment analysis dataset](https://drive.google.com/file/d/1dTIWNpjlrnTQBIQtaGOh0jCRYZiAQO79/view). \n",
        "\n",
        "We'll do some expirements with all the possible hyperparameters, like the number of hidden layers, activation functions, loss functions, optimizers, etc. <!-- Also, we'll use pre-trained word embendding vectors, using [GloVe](https://nlp.stanford.edu/projects/glove/). -->"
      ]
    },
    {
      "cell_type": "markdown",
      "metadata": {
        "id": "D3wDsekgzf_E"
      },
      "source": [
        "#(1) Libraries and files:"
      ]
    },
    {
      "cell_type": "code",
      "metadata": {
        "colab": {
          "base_uri": "https://localhost:8080/"
        },
        "id": "5FAEXY0TERGe",
        "outputId": "c5406ac0-b975-49b8-ef45-2b27103b8d4d"
      },
      "source": [
        "!pip install d2l==0.15.0"
      ],
      "execution_count": null,
      "outputs": [
        {
          "output_type": "stream",
          "text": [
            "Collecting d2l==0.15.0\n",
            "\u001b[?25l  Downloading https://files.pythonhosted.org/packages/46/4f/d169ebbd3c686b6ade9cba78fa2730ba5583048b901cd3b2cf01b28ea651/d2l-0.15.0-py3-none-any.whl (59kB)\n",
            "\r\u001b[K     |█████▌                          | 10kB 24.7MB/s eta 0:00:01\r\u001b[K     |███████████                     | 20kB 17.7MB/s eta 0:00:01\r\u001b[K     |████████████████▍               | 30kB 15.3MB/s eta 0:00:01\r\u001b[K     |██████████████████████          | 40kB 14.6MB/s eta 0:00:01\r\u001b[K     |███████████████████████████▍    | 51kB 11.9MB/s eta 0:00:01\r\u001b[K     |████████████████████████████████| 61kB 6.4MB/s \n",
            "\u001b[?25hRequirement already satisfied: pandas in /usr/local/lib/python3.6/dist-packages (from d2l==0.15.0) (1.1.5)\n",
            "Requirement already satisfied: numpy in /usr/local/lib/python3.6/dist-packages (from d2l==0.15.0) (1.19.4)\n",
            "Requirement already satisfied: jupyter in /usr/local/lib/python3.6/dist-packages (from d2l==0.15.0) (1.0.0)\n",
            "Requirement already satisfied: matplotlib in /usr/local/lib/python3.6/dist-packages (from d2l==0.15.0) (3.2.2)\n",
            "Requirement already satisfied: python-dateutil>=2.7.3 in /usr/local/lib/python3.6/dist-packages (from pandas->d2l==0.15.0) (2.8.1)\n",
            "Requirement already satisfied: pytz>=2017.2 in /usr/local/lib/python3.6/dist-packages (from pandas->d2l==0.15.0) (2018.9)\n",
            "Requirement already satisfied: jupyter-console in /usr/local/lib/python3.6/dist-packages (from jupyter->d2l==0.15.0) (5.2.0)\n",
            "Requirement already satisfied: qtconsole in /usr/local/lib/python3.6/dist-packages (from jupyter->d2l==0.15.0) (5.0.1)\n",
            "Requirement already satisfied: ipykernel in /usr/local/lib/python3.6/dist-packages (from jupyter->d2l==0.15.0) (4.10.1)\n",
            "Requirement already satisfied: notebook in /usr/local/lib/python3.6/dist-packages (from jupyter->d2l==0.15.0) (5.3.1)\n",
            "Requirement already satisfied: nbconvert in /usr/local/lib/python3.6/dist-packages (from jupyter->d2l==0.15.0) (5.6.1)\n",
            "Requirement already satisfied: ipywidgets in /usr/local/lib/python3.6/dist-packages (from jupyter->d2l==0.15.0) (7.5.1)\n",
            "Requirement already satisfied: kiwisolver>=1.0.1 in /usr/local/lib/python3.6/dist-packages (from matplotlib->d2l==0.15.0) (1.3.1)\n",
            "Requirement already satisfied: pyparsing!=2.0.4,!=2.1.2,!=2.1.6,>=2.0.1 in /usr/local/lib/python3.6/dist-packages (from matplotlib->d2l==0.15.0) (2.4.7)\n",
            "Requirement already satisfied: cycler>=0.10 in /usr/local/lib/python3.6/dist-packages (from matplotlib->d2l==0.15.0) (0.10.0)\n",
            "Requirement already satisfied: six>=1.5 in /usr/local/lib/python3.6/dist-packages (from python-dateutil>=2.7.3->pandas->d2l==0.15.0) (1.15.0)\n",
            "Requirement already satisfied: prompt-toolkit<2.0.0,>=1.0.0 in /usr/local/lib/python3.6/dist-packages (from jupyter-console->jupyter->d2l==0.15.0) (1.0.18)\n",
            "Requirement already satisfied: pygments in /usr/local/lib/python3.6/dist-packages (from jupyter-console->jupyter->d2l==0.15.0) (2.6.1)\n",
            "Requirement already satisfied: ipython in /usr/local/lib/python3.6/dist-packages (from jupyter-console->jupyter->d2l==0.15.0) (5.5.0)\n",
            "Requirement already satisfied: jupyter-client in /usr/local/lib/python3.6/dist-packages (from jupyter-console->jupyter->d2l==0.15.0) (5.3.5)\n",
            "Requirement already satisfied: qtpy in /usr/local/lib/python3.6/dist-packages (from qtconsole->jupyter->d2l==0.15.0) (1.9.0)\n",
            "Requirement already satisfied: ipython-genutils in /usr/local/lib/python3.6/dist-packages (from qtconsole->jupyter->d2l==0.15.0) (0.2.0)\n",
            "Requirement already satisfied: traitlets in /usr/local/lib/python3.6/dist-packages (from qtconsole->jupyter->d2l==0.15.0) (4.3.3)\n",
            "Requirement already satisfied: jupyter-core in /usr/local/lib/python3.6/dist-packages (from qtconsole->jupyter->d2l==0.15.0) (4.7.0)\n",
            "Requirement already satisfied: pyzmq>=17.1 in /usr/local/lib/python3.6/dist-packages (from qtconsole->jupyter->d2l==0.15.0) (20.0.0)\n",
            "Requirement already satisfied: tornado>=4.0 in /usr/local/lib/python3.6/dist-packages (from ipykernel->jupyter->d2l==0.15.0) (5.1.1)\n",
            "Requirement already satisfied: jinja2 in /usr/local/lib/python3.6/dist-packages (from notebook->jupyter->d2l==0.15.0) (2.11.2)\n",
            "Requirement already satisfied: nbformat in /usr/local/lib/python3.6/dist-packages (from notebook->jupyter->d2l==0.15.0) (5.0.8)\n",
            "Requirement already satisfied: terminado>=0.8.1 in /usr/local/lib/python3.6/dist-packages (from notebook->jupyter->d2l==0.15.0) (0.9.1)\n",
            "Requirement already satisfied: Send2Trash in /usr/local/lib/python3.6/dist-packages (from notebook->jupyter->d2l==0.15.0) (1.5.0)\n",
            "Requirement already satisfied: entrypoints>=0.2.2 in /usr/local/lib/python3.6/dist-packages (from nbconvert->jupyter->d2l==0.15.0) (0.3)\n",
            "Requirement already satisfied: bleach in /usr/local/lib/python3.6/dist-packages (from nbconvert->jupyter->d2l==0.15.0) (3.2.1)\n",
            "Requirement already satisfied: pandocfilters>=1.4.1 in /usr/local/lib/python3.6/dist-packages (from nbconvert->jupyter->d2l==0.15.0) (1.4.3)\n",
            "Requirement already satisfied: mistune<2,>=0.8.1 in /usr/local/lib/python3.6/dist-packages (from nbconvert->jupyter->d2l==0.15.0) (0.8.4)\n",
            "Requirement already satisfied: testpath in /usr/local/lib/python3.6/dist-packages (from nbconvert->jupyter->d2l==0.15.0) (0.4.4)\n",
            "Requirement already satisfied: defusedxml in /usr/local/lib/python3.6/dist-packages (from nbconvert->jupyter->d2l==0.15.0) (0.6.0)\n",
            "Requirement already satisfied: widgetsnbextension~=3.5.0 in /usr/local/lib/python3.6/dist-packages (from ipywidgets->jupyter->d2l==0.15.0) (3.5.1)\n",
            "Requirement already satisfied: wcwidth in /usr/local/lib/python3.6/dist-packages (from prompt-toolkit<2.0.0,>=1.0.0->jupyter-console->jupyter->d2l==0.15.0) (0.2.5)\n",
            "Requirement already satisfied: decorator in /usr/local/lib/python3.6/dist-packages (from ipython->jupyter-console->jupyter->d2l==0.15.0) (4.4.2)\n",
            "Requirement already satisfied: pexpect; sys_platform != \"win32\" in /usr/local/lib/python3.6/dist-packages (from ipython->jupyter-console->jupyter->d2l==0.15.0) (4.8.0)\n",
            "Requirement already satisfied: simplegeneric>0.8 in /usr/local/lib/python3.6/dist-packages (from ipython->jupyter-console->jupyter->d2l==0.15.0) (0.8.1)\n",
            "Requirement already satisfied: pickleshare in /usr/local/lib/python3.6/dist-packages (from ipython->jupyter-console->jupyter->d2l==0.15.0) (0.7.5)\n",
            "Requirement already satisfied: setuptools>=18.5 in /usr/local/lib/python3.6/dist-packages (from ipython->jupyter-console->jupyter->d2l==0.15.0) (51.0.0)\n",
            "Requirement already satisfied: MarkupSafe>=0.23 in /usr/local/lib/python3.6/dist-packages (from jinja2->notebook->jupyter->d2l==0.15.0) (1.1.1)\n",
            "Requirement already satisfied: jsonschema!=2.5.0,>=2.4 in /usr/local/lib/python3.6/dist-packages (from nbformat->notebook->jupyter->d2l==0.15.0) (2.6.0)\n",
            "Requirement already satisfied: ptyprocess; os_name != \"nt\" in /usr/local/lib/python3.6/dist-packages (from terminado>=0.8.1->notebook->jupyter->d2l==0.15.0) (0.6.0)\n",
            "Requirement already satisfied: webencodings in /usr/local/lib/python3.6/dist-packages (from bleach->nbconvert->jupyter->d2l==0.15.0) (0.5.1)\n",
            "Requirement already satisfied: packaging in /usr/local/lib/python3.6/dist-packages (from bleach->nbconvert->jupyter->d2l==0.15.0) (20.8)\n",
            "Installing collected packages: d2l\n",
            "Successfully installed d2l-0.15.0\n"
          ],
          "name": "stdout"
        }
      ]
    },
    {
      "cell_type": "code",
      "metadata": {
        "colab": {
          "base_uri": "https://localhost:8080/"
        },
        "id": "ctZoU0jAzrPp",
        "outputId": "309a7150-18dd-4776-d197-a64478f16ead"
      },
      "source": [
        "#Importing all the libraries that we are going to need for this assignment.\n",
        "\n",
        "#Pandas\n",
        "import pandas as pd\n",
        "from pandas import read_csv\n",
        "import csv\n",
        "pd.set_option('display.max_rows', None)                                         #See all rows\n",
        "\n",
        "#Numpy\n",
        "import numpy  as np\n",
        "\n",
        "#Natural Language Toolkit\n",
        "import nltk\n",
        "import nltk.corpus\n",
        "\n",
        "nltk.download('stopwords')\n",
        "nltk.download('punkt')\n",
        "nltk.download('wordnet')\n",
        "\n",
        "from nltk.corpus import stopwords\n",
        "from nltk.tokenize import sent_tokenize, word_tokenize\n",
        "from nltk.stem import WordNetLemmatizer\n",
        "from nltk.stem import PorterStemmer \n",
        "stop = stopwords.words('english')\n",
        "\n",
        "#Sklearn\n",
        "\n",
        "from sklearn.feature_extraction.text import TfidfVectorizer                     #tf-idf\n",
        "from sklearn.feature_extraction.text import CountVectorizer                     #BoW\n",
        "\n",
        "from sklearn.model_selection import train_test_split, cross_val_score           #To divide our data evenly\n",
        "from sklearn import preprocessing                                               #Create numeric categories using the LabelEncoder and fit-trasnsform pipeline\n",
        "from sklearn.feature_selection import SelectKBest, chi2                         #Select the best features from vocabulary\n",
        "\n",
        "from sklearn.metrics import accuracy_score, roc_curve, auc\n",
        "from sklearn.metrics import precision_score, recall_score, f1_score\n",
        "from sklearn.metrics import classification_report\n",
        "\n",
        "import re\n",
        "from bs4 import BeautifulSoup\n",
        "\n",
        "#PyTorch\n",
        "\n",
        "from d2l import torch as d2l\n",
        "import torch\n",
        "import torch.nn as nn\n",
        "import torch.optim as optim\n",
        "\n",
        "#Matplot\n",
        "\n",
        "from matplotlib import pyplot as plt"
      ],
      "execution_count": null,
      "outputs": [
        {
          "output_type": "stream",
          "text": [
            "[nltk_data] Downloading package stopwords to /root/nltk_data...\n",
            "[nltk_data]   Unzipping corpora/stopwords.zip.\n",
            "[nltk_data] Downloading package punkt to /root/nltk_data...\n",
            "[nltk_data]   Unzipping tokenizers/punkt.zip.\n",
            "[nltk_data] Downloading package wordnet to /root/nltk_data...\n",
            "[nltk_data]   Unzipping corpora/wordnet.zip.\n"
          ],
          "name": "stdout"
        }
      ]
    },
    {
      "cell_type": "markdown",
      "metadata": {
        "id": "DdpX_PqW0-cP"
      },
      "source": [
        "# (2) Functions:"
      ]
    },
    {
      "cell_type": "markdown",
      "metadata": {
        "id": "63v91Uxa-106"
      },
      "source": [
        "These functions are for data cleaning and preprocessing."
      ]
    },
    {
      "cell_type": "code",
      "metadata": {
        "id": "4ksErh3A1FnV"
      },
      "source": [
        "def sum1forline(filename,nrows):                                                #Calculating the rows in a csv file\n",
        "    with open(filename) as f:\n",
        "        total_lines = sum(1 for line in f)\n",
        "        if ( total_lines > nrows ):\n",
        "          print(\"We have:\", total_lines ,\"rows in total and we've read:\",nrows,\"samples\")\n",
        "        else:\n",
        "          print(\"We have:\", total_lines ,\"rows in total and we've read:\",total_lines,\"samples\")\n",
        "\n",
        "\n",
        "\n",
        "def cleanText(tweets):\n",
        "  tweets['text'] = tweets['text'].apply(lambda x: str(x).lower())                                                 #Make the text in lowercase\n",
        "\n",
        "  tweets['text'] = tweets['text'].apply(lambda x: BeautifulSoup(x, 'lxml').get_text().strip())                    #Removing HTML Tags\n",
        "\n",
        "  tweets['text'] = tweets['text'].apply(lambda x: RemoveSpecialCharacters(x))                                     #Remove special characters (#!@%*& etc)\n",
        "\n",
        "  tweets['text'] = tweets['text'].apply(lambda x: ' '.join([word for word in x.split() if word not in (stop)]))   #Removing stopwords\n",
        "\n",
        "  tweets['text'] = tweets['text'].apply(lambda x: removeNumbers(x))                                               #Removing numbers\n",
        "\n",
        "  #Steeming: \"rained\" , \"raining\" , \"rain\" converting into: \"rain\".\n",
        "\n",
        "  tweets['text_tokens'] = tweets['text'].apply(lambda x: word_tokenize(x))\n",
        "  #Uncomment the next lines if you want to choose steeming over leematization\n",
        "\n",
        "  # <-->\n",
        "  tweets['text_tokens_final'] = tweets['text_tokens'].apply(lambda x: word_stemmer(x))\n",
        "  # <-->\n",
        "\n",
        "  #Leematization: \"rocks\" : rock , \"corpora\" : corpus, \"better\" : good.\n",
        "  #Comment the next line if you want to choose steeming over leematization\n",
        "\n",
        "  # <-->\n",
        "  # tweets['text_tokens_final'] = tweets['text_tokens'].apply(lambda x: word_lemmatizer(x))\n",
        "  # <-->\n",
        "\n",
        "  #Final text\n",
        "\n",
        "  tweets['final_text'] = tweets['text_tokens_final'].apply(lambda x: list2string(x))\n",
        "\n",
        "  tweets['final_text'] =  tweets['final_text'].apply(lambda x: re.sub(r\"\\b[a-zA-Z]\\b\", \"\", x))                      #Remove all the single characters from a string\n",
        "\n",
        "  tweets['final_text'] = tweets['final_text'].apply(lambda x: re.sub(' +', ' ', x))                                 #Replace multiple whitespaces\n",
        "\n",
        "  #Clean the csv file from odd columns\n",
        "  tweets = tweets.drop(['text', 'text_tokens', 'text_tokens_final'], axis=1)\n",
        "  \n",
        "  columns_titles = [\"final_text\",\"sentiment\"]\n",
        "  tweets=tweets.reindex(columns=columns_titles)\n",
        "\n",
        "  tweets.columns= ['text', 'sentiment']                        \n",
        "\n",
        "  return tweets\n",
        "\n",
        "def removeNumbers(text):\n",
        "  result = ''.join([i for i in text if not i.isdigit()])\n",
        "  return result\n",
        "\n",
        "def RemoveSpecialCharacters(x):\n",
        "\n",
        "  cleanString = re.sub('\\W+',' ', x )\n",
        "  cleanString= ' '.join(cleanString.split())\n",
        "  return cleanString\n",
        "\n",
        "def word_stemmer(text):\n",
        "    stem_text = [PorterStemmer().stem(i) for i in text]\n",
        "    return stem_text\n",
        "\n",
        "def word_lemmatizer(text):\n",
        "    lem_text = [WordNetLemmatizer().lemmatize(i) for i in text]\n",
        "    return lem_text\n",
        "\n",
        "def list2string(list):\n",
        "  # initialize an empty string \n",
        "  str1 = \" \" \n",
        "    \n",
        "  # return string   \n",
        "  return (str1.join(list)) \n",
        "\n",
        "def Word_Vectorizer(X_train, Y_train, X_test, Y_test, method, kBestFeatures):   #Vectorization with feature selection\n",
        "    \n",
        "    y_train = Y_train\n",
        "    y_test  = Y_test\n",
        "\n",
        "    le = preprocessing.LabelEncoder()\n",
        "    le.fit(Y_train)\n",
        "    \n",
        "    #Y_train and Y_test form now and then , will have numeric values instead of strings\n",
        "    #Same for X_train and X_test\n",
        "\n",
        "    Y_train = le.transform(Y_train)\n",
        "    Y_test  = le.transform(Y_test)\n",
        "\n",
        "    vectorizer = method()\n",
        "\n",
        "    X_train = vectorizer.fit_transform(X_train)\n",
        "    X_train_reduced = SelectKBest(chi2, k=kBestFeatures).fit_transform(X_train, y_train )\n",
        "\n",
        "    X_test  = vectorizer.transform(X_test)\n",
        "    X_test_reduced = SelectKBest(chi2, k=kBestFeatures).fit_transform(X_test, y_test)\n",
        "\n",
        "    return X_train_reduced, Y_train, X_test_reduced, Y_test\n",
        "    # return X_train, Y_train, X_test, Y_test\n",
        "\n",
        "def convert2Torch(X_train, X_test, Y_train, Y_test):\n",
        "  \n",
        "  X_train = X_train.toarray()\n",
        "  X_test  = X_test.toarray()\n",
        "  X_train = torch.from_numpy(X_train).to(device)\n",
        "  X_test  = torch.from_numpy(X_test).to(device)\n",
        "\n",
        "\n",
        "  Y_train = np.array([Y_train]).T\n",
        "\n",
        "  Y_test  = np.array([Y_test]).T\n",
        "\n",
        "  Y_train = torch.from_numpy(Y_train).to(device)\n",
        "  Y_test  = torch.from_numpy(Y_test).to(device)\n",
        "\n",
        "  return X_train, X_test, Y_train, Y_test\n",
        "\n",
        "def loadGloveModel(File):\n",
        "  print(\"Loading Glove Model\")\n",
        "\n",
        "  f = open(File,'r')\n",
        "\n",
        "  gloveModel = {}\n",
        "\n",
        "  for line in f:\n",
        "  \n",
        "    splitLines = line.split()\n",
        "    word = splitLines[0]\n",
        "    wordEmbedding = np.array([float(value) for value in splitLines[1:]])\n",
        "    gloveModel[word] = wordEmbedding\n",
        "    print(len(gloveModel),\" words loaded!\")\n",
        "  \n",
        "  return gloveModel"
      ],
      "execution_count": null,
      "outputs": []
    },
    {
      "cell_type": "markdown",
      "metadata": {
        "id": "WfqGK0ge-7SV"
      },
      "source": [
        "These functions are for creating our FF-Neural Network."
      ]
    },
    {
      "cell_type": "code",
      "metadata": {
        "id": "7glcwmyOSnG0"
      },
      "source": [
        "class FeedForward_NN(nn.Module):\n",
        "  def __init__(self, input_size, hidden_size, output_size):\n",
        "\n",
        "    super(FeedForward_NN, self).__init__()\n",
        "\n",
        "    # Linear Layer 1: Input Layer. fc stands for fully conected layer\n",
        "    self.fc1 = nn.Linear(input_size, hidden_size)\n",
        "\n",
        "    # 1st Activation Function\n",
        "    self.relu1 = nn.ReLU()\n",
        "    # self.sigmoid1 = nn.Sigmoid()\n",
        "\n",
        "    # Linear Layer 2: Hidden Layer.\n",
        "    self.fc2 = nn.Linear(hidden_size, hidden_size)\n",
        "\n",
        "    # 2nd Activation Function\n",
        "    self.relu2 = nn.ReLU()\n",
        "    # self.sigmoid2 = nn.Sigmoid()\n",
        "\n",
        "    # Linear Layer 3: Output Layer.\n",
        "    self.fc3 = nn.Linear(hidden_size, output_size)\n",
        "\n",
        "  def forward(self, x):\n",
        "\n",
        "    # Linear 1:\n",
        "    x = self.fc1(x)\n",
        "\n",
        "    # 1st Activation\n",
        "    x = self.relu1(x)\n",
        "    # x = self.sigmoid1(x)\n",
        "\n",
        "    # Linear 2:\n",
        "    x = self.fc2(x)\n",
        "\n",
        "    # 2nd Activation\n",
        "    x = self.relu2(x)\n",
        "    # x = self.sigmoid2(x)\n",
        "\n",
        "    #Linear 3:\n",
        "    x = self.fc3(x)\n",
        "\n",
        "    # Output Activation Function\n",
        "    # output = nn.Softmax(dim=0)\n",
        "    output = nn.functional.softmax(x, dim=0)\n",
        "    \n",
        "    return output\n",
        "\n",
        "def visual_loss():\n",
        "  \n",
        "  plt.plot(iter,train_loss)\n",
        "  \n",
        "  plt.xlabel('Epochs')\n",
        "  \n",
        "  plt.ylabel('Train Loss')"
      ],
      "execution_count": null,
      "outputs": []
    },
    {
      "cell_type": "markdown",
      "metadata": {
        "id": "H0zPmFKosZxC"
      },
      "source": [
        "These functions are for training our FF-Neural Network."
      ]
    },
    {
      "cell_type": "code",
      "metadata": {
        "id": "J7HW0qZtsd8d"
      },
      "source": [
        "def training(X_train, Y_train, num_epochs, optimizer, loss, net):\n",
        "\n",
        "  train_loss = [] \n",
        "  iter = []\n",
        "\n",
        "  train_iter = d2l.load_array((X_train, Y_train), batch_size)\n",
        "\n",
        "\n",
        "  for epoch in range(num_epochs):\n",
        "\n",
        "    for X, y in train_iter:\n",
        "\n",
        "      # Set the accumulated gradients to zero before starting backpro\n",
        "      optimizer.zero_grad()\n",
        "\n",
        "      # Forward Pass into the FF Neural Network\n",
        "      y_pred = net(X.float())\n",
        "      # print(y_pred)\n",
        "      # print(y)\n",
        "\n",
        "      # Compute Loss\n",
        "      loss_func = loss(y_pred, torch.argmax(y,1))\n",
        "      # loss_func = loss(y_pred,y)\n",
        "      # loss_func = loss(torch.argmax(y_pred, dim=1), y)\n",
        "\n",
        "      # Computing gradients\n",
        "      # Backward pass\n",
        "      loss_func.backward()\n",
        "\n",
        "      # Updating Parameters\n",
        "      optimizer.step()\n",
        "    \n",
        "    train_loss.append( loss_func.item() )\n",
        "    iter.append( epoch + 1 )\n",
        "    print(\"Epoch:\",epoch + 1,\"completed.\")\n",
        "    print(\"Training loss:\",loss_func.item(),\"\\n\")\n",
        "\n",
        "  return train_loss, iter"
      ],
      "execution_count": null,
      "outputs": []
    },
    {
      "cell_type": "markdown",
      "metadata": {
        "id": "lRCGerITPlIb"
      },
      "source": [
        "Here, the evaluation will take place."
      ]
    },
    {
      "cell_type": "code",
      "metadata": {
        "id": "TJpWOM-NPoTG"
      },
      "source": [
        "def evaluate(X_test, Y_test, net, batch_size):\n",
        "\n",
        "  test_iter = d2l.load_array((X_test, Y_test), batch_size)\n",
        "\n",
        "  ff_nn_val_predictions= []\n",
        "  real_labels = []\n",
        "\n",
        "  with torch.no_grad():\n",
        "\n",
        "    for X, y in test_iter:\n",
        "    \n",
        "      probs = net(X.float())\n",
        "      ff_nn_val_predictions.append(torch.argmax(probs,dim=1).cpu().numpy()[0])\n",
        "      real_labels.append(y.cpu().numpy()[0])\n",
        "\n",
        "  print(classification_report(ff_nn_val_predictions, real_labels))\n",
        "  print(\"Accuracy Score -> \",   accuracy_score(   ff_nn_val_predictions, real_labels))\n",
        "  print(\"Precision Score -> \",  precision_score(  ff_nn_val_predictions, real_labels, average='macro')*100)\n",
        "  print(\"Recall Score -> \",     recall_score(     ff_nn_val_predictions, real_labels, average='macro')*100)\n",
        "  print(\"F-Measure Score -> \",  f1_score(         ff_nn_val_predictions, real_labels, average='macro')*100)"
      ],
      "execution_count": null,
      "outputs": []
    },
    {
      "cell_type": "markdown",
      "metadata": {
        "id": "8t56KXJp3fDw"
      },
      "source": [
        "Last but not least, we'll use the given GPU from google colab in order to make our computations a bit faster."
      ]
    },
    {
      "cell_type": "code",
      "metadata": {
        "id": "VuLUicTw3rKW"
      },
      "source": [
        "def use_cuda():\n",
        "\n",
        "  if torch.cuda.is_available():       \n",
        "    device = torch.device(\"cuda\")\n",
        "    print(f'There are {torch.cuda.device_count()} GPU(s) available.')\n",
        "    print('Device name:', torch.cuda.get_device_name(0))\n",
        "\n",
        "  else:\n",
        "    print('No GPU available, using the CPU instead.')\n",
        "    device = torch.device(\"cpu\")\n",
        "\n",
        "  device = torch.device(\"cuda\" if torch.cuda.is_available() else \"cpu\")\n",
        "  print(\"Device available for running: \")\n",
        "  print(device)\n",
        "  return device"
      ],
      "execution_count": null,
      "outputs": []
    },
    {
      "cell_type": "markdown",
      "metadata": {
        "id": "_5ijXz1M1iiH"
      },
      "source": [
        "# (3) Data Preprocessing:"
      ]
    },
    {
      "cell_type": "code",
      "metadata": {
        "colab": {
          "base_uri": "https://localhost:8080/",
          "height": 198
        },
        "id": "LNW_ew6z1s64",
        "outputId": "9538dae8-3022-4ecc-e641-700d32cc914a"
      },
      "source": [
        "#Loading and previewing the given dataset.\n",
        "\n",
        "#How much lines you want to read (Use this in order to save the given RAM)\n",
        "samples = 1000000\n",
        "\n",
        "LocationCSV = r'/content/SentimentTweets.csv'\n",
        "tweets = pd.read_csv(LocationCSV, low_memory=False , quoting=csv.QUOTE_NONE, encoding='utf-8',  warn_bad_lines=False, error_bad_lines=False, nrows=samples);   #Read csv file\n",
        "tweets.head()"
      ],
      "execution_count": null,
      "outputs": [
        {
          "output_type": "execute_result",
          "data": {
            "text/html": [
              "<div>\n",
              "<style scoped>\n",
              "    .dataframe tbody tr th:only-of-type {\n",
              "        vertical-align: middle;\n",
              "    }\n",
              "\n",
              "    .dataframe tbody tr th {\n",
              "        vertical-align: top;\n",
              "    }\n",
              "\n",
              "    .dataframe thead th {\n",
              "        text-align: right;\n",
              "    }\n",
              "</style>\n",
              "<table border=\"1\" class=\"dataframe\">\n",
              "  <thead>\n",
              "    <tr style=\"text-align: right;\">\n",
              "      <th></th>\n",
              "      <th>Unnamed: 0</th>\n",
              "      <th>target</th>\n",
              "      <th>id</th>\n",
              "      <th>date</th>\n",
              "      <th>flag</th>\n",
              "      <th>user</th>\n",
              "      <th>text</th>\n",
              "    </tr>\n",
              "  </thead>\n",
              "  <tbody>\n",
              "    <tr>\n",
              "      <th>0</th>\n",
              "      <td>680949</td>\n",
              "      <td>0</td>\n",
              "      <td>2249621587</td>\n",
              "      <td>Fri Jun 19 22:41:08 PDT 2009</td>\n",
              "      <td>NO_QUERY</td>\n",
              "      <td>sukumarpant</td>\n",
              "      <td>#brokenpromises...</td>\n",
              "    </tr>\n",
              "    <tr>\n",
              "      <th>1</th>\n",
              "      <td>406741</td>\n",
              "      <td>0</td>\n",
              "      <td>2059003515</td>\n",
              "      <td>Sat Jun 06 16:03:21 PDT 2009</td>\n",
              "      <td>NO_QUERY</td>\n",
              "      <td>MTMSparrow</td>\n",
              "      <td>David Carradine  so sad. Thai's law not sure i...</td>\n",
              "    </tr>\n",
              "    <tr>\n",
              "      <th>2</th>\n",
              "      <td>1337108</td>\n",
              "      <td>4</td>\n",
              "      <td>2017466467</td>\n",
              "      <td>Wed Jun 03 08:26:14 PDT 2009</td>\n",
              "      <td>NO_QUERY</td>\n",
              "      <td>itsmemcee</td>\n",
              "      <td>A @ 415 B @ 425. Tell your bro i say congrats!</td>\n",
              "    </tr>\n",
              "    <tr>\n",
              "      <th>3</th>\n",
              "      <td>1560887</td>\n",
              "      <td>4</td>\n",
              "      <td>2186457254</td>\n",
              "      <td>Mon Jun 15 18:52:04 PDT 2009</td>\n",
              "      <td>NO_QUERY</td>\n",
              "      <td>jdfreivald</td>\n",
              "      <td>@littlefluffycat  Indeed.</td>\n",
              "    </tr>\n",
              "    <tr>\n",
              "      <th>4</th>\n",
              "      <td>1466295</td>\n",
              "      <td>4</td>\n",
              "      <td>2064458395</td>\n",
              "      <td>Sun Jun 07 06:19:20 PDT 2009</td>\n",
              "      <td>NO_QUERY</td>\n",
              "      <td>CrazyHan</td>\n",
              "      <td>Completed Race 4 Life in 58mins with girlies f...</td>\n",
              "    </tr>\n",
              "  </tbody>\n",
              "</table>\n",
              "</div>"
            ],
            "text/plain": [
              "   Unnamed: 0  ...                                               text\n",
              "0      680949  ...                                #brokenpromises... \n",
              "1      406741  ...  David Carradine  so sad. Thai's law not sure i...\n",
              "2     1337108  ...    A @ 415 B @ 425. Tell your bro i say congrats! \n",
              "3     1560887  ...                          @littlefluffycat  Indeed.\n",
              "4     1466295  ...  Completed Race 4 Life in 58mins with girlies f...\n",
              "\n",
              "[5 rows x 7 columns]"
            ]
          },
          "metadata": {
            "tags": []
          },
          "execution_count": 8
        }
      ]
    },
    {
      "cell_type": "code",
      "metadata": {
        "colab": {
          "base_uri": "https://localhost:8080/",
          "height": 216
        },
        "id": "3HjkR-ag8RQA",
        "outputId": "8c7495b3-9bb6-4238-cea3-dbe837ddb848"
      },
      "source": [
        "sum1forline(LocationCSV,samples)  #Calculating the rows in a csv file (When the file it's fully read, rows we'll be 1.280.001)\n",
        "tweets = cleanCSV(tweets)         #Drop useless columns\n",
        "tweets = cleanText(tweets)        #Data Preprocessing/Text cleaning => Takes some time\n",
        "tweets.head()"
      ],
      "execution_count": null,
      "outputs": [
        {
          "output_type": "stream",
          "text": [
            "We have: 144509 rows in total and we've read: 144509 samples\n"
          ],
          "name": "stdout"
        },
        {
          "output_type": "execute_result",
          "data": {
            "text/html": [
              "<div>\n",
              "<style scoped>\n",
              "    .dataframe tbody tr th:only-of-type {\n",
              "        vertical-align: middle;\n",
              "    }\n",
              "\n",
              "    .dataframe tbody tr th {\n",
              "        vertical-align: top;\n",
              "    }\n",
              "\n",
              "    .dataframe thead th {\n",
              "        text-align: right;\n",
              "    }\n",
              "</style>\n",
              "<table border=\"1\" class=\"dataframe\">\n",
              "  <thead>\n",
              "    <tr style=\"text-align: right;\">\n",
              "      <th></th>\n",
              "      <th>text</th>\n",
              "      <th>sentiment</th>\n",
              "    </tr>\n",
              "  </thead>\n",
              "  <tbody>\n",
              "    <tr>\n",
              "      <th>0</th>\n",
              "      <td>brokenpromis</td>\n",
              "      <td>negative</td>\n",
              "    </tr>\n",
              "    <tr>\n",
              "      <th>1</th>\n",
              "      <td>david carradin sad thai law sure fowl play man...</td>\n",
              "      <td>negative</td>\n",
              "    </tr>\n",
              "    <tr>\n",
              "      <th>2</th>\n",
              "      <td>tell bro say congrat</td>\n",
              "      <td>positive</td>\n",
              "    </tr>\n",
              "    <tr>\n",
              "      <th>3</th>\n",
              "      <td>littlefluffycat inde</td>\n",
              "      <td>positive</td>\n",
              "    </tr>\n",
              "    <tr>\n",
              "      <th>4</th>\n",
              "      <td>complet race life min girli work fun bloodi ho...</td>\n",
              "      <td>positive</td>\n",
              "    </tr>\n",
              "  </tbody>\n",
              "</table>\n",
              "</div>"
            ],
            "text/plain": [
              "                                                text sentiment\n",
              "0                                       brokenpromis  negative\n",
              "1  david carradin sad thai law sure fowl play man...  negative\n",
              "2                               tell bro say congrat  positive\n",
              "3                               littlefluffycat inde  positive\n",
              "4  complet race life min girli work fun bloodi ho...  positive"
            ]
          },
          "metadata": {
            "tags": []
          },
          "execution_count": 9
        }
      ]
    },
    {
      "cell_type": "code",
      "metadata": {
        "colab": {
          "base_uri": "https://localhost:8080/"
        },
        "id": "Xb_RPX7n7ZUZ",
        "outputId": "8364b2ab-92b3-4c1d-c13d-945c3b338eb3"
      },
      "source": [
        "#Dividing the dataset into train and test.\n",
        "\n",
        "X = tweets['text']\n",
        "y = tweets['sentiment']\n",
        "\n",
        "X_train, X_test, y_train, y_test = train_test_split(X, y, test_size=0.2, random_state=42, shuffle=True)       #Splitting our dataset\n",
        "\n",
        "print(y_train.value_counts())\n",
        "print(y_test.value_counts())"
      ],
      "execution_count": null,
      "outputs": [
        {
          "output_type": "stream",
          "text": [
            "negative    45201\n",
            "positive    43784\n",
            "Name: sentiment, dtype: int64\n",
            "negative    11253\n",
            "positive    10994\n",
            "Name: sentiment, dtype: int64\n"
          ],
          "name": "stdout"
        }
      ]
    },
    {
      "cell_type": "markdown",
      "metadata": {
        "id": "Fem47DfB5-MN"
      },
      "source": [
        "In order to minimize our vocabulary, we'll do some feature extraction. The selection of the k-best features though, will go through the chi2 filter."
      ]
    },
    {
      "cell_type": "code",
      "metadata": {
        "id": "uItQt-sLAG-K"
      },
      "source": [
        "kBestFeatures = 1000 \n",
        "vec_method    = TfidfVectorizer\n",
        "# vec_method    = CountVectorizer\n",
        "\n",
        "\n",
        "X_train, Y_train, X_test, Y_test = Word_Vectorizer(X_train, y_train, X_test, y_test, vec_method, kBestFeatures)       #Vectorization"
      ],
      "execution_count": null,
      "outputs": []
    },
    {
      "cell_type": "markdown",
      "metadata": {
        "id": "TKM8F_l-DlIp"
      },
      "source": [
        "Now, we'll convert our data into the tensor representation for training.\n",
        "\n",
        "Our datasets have a sparse matrix form, meaning that the most elements in the matrix are zeros."
      ]
    },
    {
      "cell_type": "code",
      "metadata": {
        "colab": {
          "base_uri": "https://localhost:8080/"
        },
        "id": "EIZvc3CeIcnH",
        "outputId": "38533983-bc86-44f6-8723-0ee793edc771"
      },
      "source": [
        "device = use_cuda()\n",
        "X_train, X_test, Y_train , Y_test = convert2Torch(X_train, X_test, Y_train, Y_test)"
      ],
      "execution_count": null,
      "outputs": [
        {
          "output_type": "stream",
          "text": [
            "There are 1 GPU(s) available.\n",
            "Device name: Tesla T4\n",
            "Device available for running: \n",
            "cuda\n"
          ],
          "name": "stdout"
        }
      ]
    },
    {
      "cell_type": "markdown",
      "metadata": {
        "id": "BXa15X0cDQfn"
      },
      "source": [
        "# (4) Training our FF Neural Network:"
      ]
    },
    {
      "cell_type": "markdown",
      "metadata": {
        "id": "ZTQ3urQ0UXkY"
      },
      "source": [
        "First of all, we need to initialize our model. In order to do this, we must compute 3 basic componets:\n",
        "\n",
        "\n",
        "1. *Input Dimension*.\n",
        "2. *Hidden Dimension*.\n",
        "3. *Output Dimension*.\n",
        "\n",
        "The first one is simply the number of features in our training dataset.\n",
        "\n",
        "The last one is also an easy one, we have only 2 labels for each comment: Negative/Positive. Thus, the output_dim will be **2**.\n",
        "\n",
        "Now, the number of the units in hidden layer varies. After some expirements, we choose **500** units.\n",
        "\n",
        "Last but not least, we choose 2 activation functions:\n",
        "\n",
        "\n",
        "\n",
        "*   For Hidden Layers: **ReLU** (or **Sigmoid**).\n",
        "*   For Output Layers: **Softmax**.\n",
        "\n"
      ]
    },
    {
      "cell_type": "code",
      "metadata": {
        "colab": {
          "base_uri": "https://localhost:8080/"
        },
        "id": "cSC6T4gdZZNz",
        "outputId": "57e77df7-d43d-4a1f-abea-696c337d4a53"
      },
      "source": [
        "input_size  = X_train.shape[1]\n",
        "hidden_size = 500\n",
        "output_size = 2\n",
        "\n",
        "net = FeedForward_NN(input_size, hidden_size, output_size)\n",
        "net.to(device)"
      ],
      "execution_count": null,
      "outputs": [
        {
          "output_type": "execute_result",
          "data": {
            "text/plain": [
              "FeedForward_NN(\n",
              "  (fc1): Linear(in_features=1000, out_features=500, bias=True)\n",
              "  (relu1): ReLU()\n",
              "  (fc2): Linear(in_features=500, out_features=500, bias=True)\n",
              "  (relu2): ReLU()\n",
              "  (fc3): Linear(in_features=500, out_features=2, bias=True)\n",
              ")"
            ]
          },
          "metadata": {
            "tags": []
          },
          "execution_count": 13
        }
      ]
    },
    {
      "cell_type": "markdown",
      "metadata": {
        "id": "mspZoX2MXwU5"
      },
      "source": [
        "Now, let's configure the hyperparameters for the training set."
      ]
    },
    {
      "cell_type": "code",
      "metadata": {
        "id": "c5kqX356X34Q"
      },
      "source": [
        "num_epochs    = 10          # Number of epochs\n",
        "learning_rate = 0.001       # Learning Rate\n",
        "batch_size    = 64          # After how many samples we'll change the weights\n",
        "# weight_decay  = 0.01        # L2 Penalty (Optional here)"
      ],
      "execution_count": null,
      "outputs": []
    },
    {
      "cell_type": "markdown",
      "metadata": {
        "id": "8gxm98bwVZ35"
      },
      "source": [
        "Now, we must also choose which lost function we should use, and also the optimizer. After some tests, we decided that the best combination for our occasion is:\n",
        "\n",
        "\n",
        "*   Loss Function: **CrossEntropyLoss**\n",
        "*   Optimizer: **Adam**\n",
        "\n"
      ]
    },
    {
      "cell_type": "code",
      "metadata": {
        "id": "7wScmOqhZZqL"
      },
      "source": [
        "loss = nn.CrossEntropyLoss()\n",
        "# loss = nn.MSELoss()\n",
        "# loss = nn.BCELoss()\n",
        "\n",
        "optimizer = optim.Adam(net.parameters(), lr = learning_rate)\n",
        "# optimizer     = optim.SGD(net.parameters(), lr= learning_rate)"
      ],
      "execution_count": null,
      "outputs": []
    },
    {
      "cell_type": "markdown",
      "metadata": {
        "id": "8cDsM71dcYvc"
      },
      "source": [
        "So now we are ready to train our model! Then, we'll use some graphic data representation and also we'll see how good scores we managed to have."
      ]
    },
    {
      "cell_type": "code",
      "metadata": {
        "colab": {
          "base_uri": "https://localhost:8080/"
        },
        "id": "1XIZT2Bed2Xc",
        "outputId": "1c806d14-b534-47fe-b8f8-f21a5a670ed8"
      },
      "source": [
        "train_loss, iter = training(X_train, Y_train, num_epochs, optimizer, loss, net)"
      ],
      "execution_count": null,
      "outputs": [
        {
          "output_type": "stream",
          "text": [
            "Epoch: 1 completed.\n",
            "Training loss: 0.6931471228599548 \n",
            "\n",
            "Epoch: 2 completed.\n",
            "Training loss: 0.6931471824645996 \n",
            "\n",
            "Epoch: 3 completed.\n",
            "Training loss: 0.6931471228599548 \n",
            "\n",
            "Epoch: 4 completed.\n",
            "Training loss: 0.6931471228599548 \n",
            "\n",
            "Epoch: 5 completed.\n",
            "Training loss: 0.6931473016738892 \n",
            "\n",
            "Epoch: 6 completed.\n",
            "Training loss: 0.6931471824645996 \n",
            "\n",
            "Epoch: 7 completed.\n",
            "Training loss: 0.6931471824645996 \n",
            "\n",
            "Epoch: 8 completed.\n",
            "Training loss: 0.6931473016738892 \n",
            "\n",
            "Epoch: 9 completed.\n",
            "Training loss: 0.6931471824645996 \n",
            "\n",
            "Epoch: 10 completed.\n",
            "Training loss: 0.6931471228599548 \n",
            "\n"
          ],
          "name": "stdout"
        }
      ]
    },
    {
      "cell_type": "code",
      "metadata": {
        "colab": {
          "base_uri": "https://localhost:8080/"
        },
        "id": "zdOmwEh9PsDX",
        "outputId": "65ae92c0-6ae1-46b1-a49a-b09bf112c160"
      },
      "source": [
        "evaluate(X_test, Y_test, net, batch_size)"
      ],
      "execution_count": null,
      "outputs": [
        {
          "output_type": "stream",
          "text": [
            "              precision    recall  f1-score   support\n",
            "\n",
            "           0       0.52      0.50      0.51       183\n",
            "           1       0.47      0.49      0.48       165\n",
            "\n",
            "    accuracy                           0.50       348\n",
            "   macro avg       0.50      0.50      0.50       348\n",
            "weighted avg       0.50      0.50      0.50       348\n",
            "\n",
            "Accuracy Score ->  0.49712643678160917\n",
            "Precision Score ->  49.682875264270606\n",
            "Recall Score ->  49.68206656731247\n",
            "F-Measure Score ->  49.662349255680546\n"
          ],
          "name": "stdout"
        }
      ]
    },
    {
      "cell_type": "code",
      "metadata": {
        "colab": {
          "base_uri": "https://localhost:8080/"
        },
        "id": "5lnetGaMKlJa",
        "outputId": "a31f56e7-49f1-47ab-a598-d953043ebd91"
      },
      "source": [
        "visual_loss()"
      ],
      "execution_count": null,
      "outputs": [
        {
          "output_type": "display_data",
          "data": {
            "image/png": "[encoded data removed]",
            "text/plain": [
              "<Figure size 432x288 with 1 Axes>"
            ]
          },
          "metadata": {
            "tags": [],
            "needs_background": "light"
          }
        }
      ]
    }
  ]
}