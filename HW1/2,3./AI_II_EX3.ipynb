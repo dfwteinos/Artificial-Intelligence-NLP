{
  "nbformat": 4,
  "nbformat_minor": 0,
  "metadata": {
    "colab": {
      "name": "AI-II-EX3.ipynb",
      "provenance": [],
      "collapsed_sections": [],
      "toc_visible": true
    },
    "kernelspec": {
      "name": "python3",
      "display_name": "Python 3"
    }
  },
  "cells": [
    {
      "cell_type": "markdown",
      "metadata": {
        "id": "ba2ljI92qSz0"
      },
      "source": [
        "# (1) Libraries and files Section"
      ]
    },
    {
      "cell_type": "code",
      "metadata": {
        "id": "XY5y4U8GvVym"
      },
      "source": [
        "#Importing all the libraries that we are going to need in this assignment\n",
        "\n",
        "#Pandas\n",
        "\n",
        "import pandas as pd\n",
        "from pandas import read_csv\n",
        "import csv\n",
        "pd.set_option('display.max_rows', None)\n",
        "\n",
        "\n",
        "#Numpy\n",
        "import numpy  as np\n",
        "\n",
        "\n",
        "#Uncomment these lines if you want to se only 2 digits after comma\n",
        "\n",
        "float_formatter = \"{:.2f}\".format\n",
        "np.set_printoptions(formatter={'float_kind':float_formatter})\n",
        "np.seterr(invalid='ignore')\n",
        "\n",
        "#Matplotlib\n",
        "\n",
        "import matplotlib\n",
        "import matplotlib.pyplot as plt\n",
        "\n",
        "#Sklearn\n",
        "\n",
        "import sklearn\n",
        "from sklearn import preprocessing \n",
        "\n",
        "from sklearn.metrics import r2_score\n",
        "from sklearn.metrics import mean_squared_error\n",
        "from sklearn.linear_model import SGDClassifier\n",
        "from sklearn.metrics import accuracy_score\n",
        "from sklearn.metrics import precision_score\n",
        "from sklearn.metrics import recall_score\n",
        "from sklearn.metrics import f1_score\n",
        "\n",
        "from sklearn.model_selection import train_test_split\n",
        "\n",
        "#math\n",
        "\n",
        "from math import sqrt\n",
        "\n",
        "#timeit\n",
        "\n",
        "import timeit\n",
        "\n",
        "#warnings\n",
        "\n",
        "import warnings\n",
        "warnings.simplefilter(action='ignore', category=FutureWarning)\n",
        "\n",
        "#Convert words into numbers methods\n",
        "from sklearn.feature_extraction.text import CountVectorizer              #BoW\n",
        "from sklearn.feature_extraction.text import TfidfVectorizer              #tf-idf\n",
        "\n",
        "from sklearn.model_selection import train_test_split, cross_val_score    #To divide our data evenly\n",
        "from sklearn import preprocessing                                        #Create numeric categories using the LabelEncoder and fit-trasnsform pipeline\n",
        "from sklearn.model_selection import KFold                                #For multiclasses, through loop, instead of cross_val\n",
        "from sklearn.preprocessing import label_binarize\n",
        "\n",
        "from sklearn.linear_model import LogisticRegression\n",
        "from sklearn.metrics import classification_report\n",
        "import re\n",
        "from bs4 import BeautifulSoup\n",
        "import en_core_web_sm\n",
        "nlp = en_core_web_sm.load()"
      ],
      "execution_count": 1,
      "outputs": []
    },
    {
      "cell_type": "markdown",
      "metadata": {
        "id": "lASUsB3_ve-o"
      },
      "source": [
        "The given dataset is in this [link](https://drive.google.com/u/0/uc?id=1dTIWNpjlrnTQBIQtaGOh0jCRYZiAQO79&export=download)"
      ]
    },
    {
      "cell_type": "markdown",
      "metadata": {
        "id": "8tmr_3avw0tD"
      },
      "source": [
        "# (2) Functions"
      ]
    },
    {
      "cell_type": "code",
      "metadata": {
        "id": "SsBfVDE88qDw"
      },
      "source": [
        "def Word_Vectorizer(X_train, Y_train, X_test, Y_test, method):\n",
        "    \n",
        "    le = preprocessing.LabelEncoder()\n",
        "    le.fit(Y_train)\n",
        "    \n",
        "    #Y_train and Y_test form now and then , will have numeric values instead of strings\n",
        "    #Same for X_train and X_test\n",
        "\n",
        "    Y_train = le.transform(Y_train)\n",
        "    Y_test  = le.transform(Y_test)\n",
        "\n",
        "    vectorizer = method()\n",
        "\n",
        "    X_train = vectorizer.fit_transform(X_train)\n",
        "    X_test  = vectorizer.transform(X_test)\n",
        "\n",
        "    return X_train, Y_train, X_test, Y_test\n",
        "\n",
        "#function to create the matrix X (m x n) and the y column vector. \n",
        "def get_dataset(train_set):\n",
        "\n",
        "  columns=[]\n",
        "  for row in train_set.iterrows():\n",
        "    for column in row:\n",
        "      # x=column\n",
        "      columns.append(column)\n",
        "  \n",
        "  X_matrix = np.array([])\n",
        "  # vector = np.array([])\n",
        "  y_features = np.array([])\n",
        "  X_matrix = ([1,1,1,1,1,1,1,1])\n",
        "  \n",
        "  for i in columns[1::2]:\n",
        "    vector = np.array([])\n",
        "    vector = np.append(vector,i)\n",
        "  \n",
        "    y_features = np.append(y_features,vector[-1])\n",
        "    vector = np.delete(vector,-1)\n",
        "    X_matrix = np.vstack([X_matrix, vector])\n",
        "\n",
        "  X_matrix = np.delete(X_matrix,  [0] , axis=0)\n",
        "  y_features = np.array([y_features]).T\n",
        "\n",
        "  return X_matrix, y_features\n",
        "\n",
        "def cleanCSV(tweets):\n",
        "  \n",
        "  df = tweets[['target','text']]\n",
        "  df.shape\n",
        "  columns_titles = [\"text\",\"target\"]\n",
        "  df=df.reindex(columns=columns_titles)\n",
        "  df.columns = ['text', 'sentiment']\n",
        "  df.shape\n",
        "  df.loc[df[\"sentiment\"]==4 , \"sentiment\"] = 'positive'\n",
        "  df.loc[df['sentiment']==0 , \"sentiment\"] = 'negative'\n",
        "  df.shape\n",
        "  return df\n",
        "\n",
        "def RemoveSpecialCharacters(x):\n",
        "\n",
        "  cleanString = re.sub('\\W+',' ', x )\n",
        "  cleanString= ' '.join(cleanString.split())\n",
        "  return cleanString\n",
        " "
      ],
      "execution_count": 2,
      "outputs": []
    },
    {
      "cell_type": "markdown",
      "metadata": {
        "id": "JM9Dh8Bfw3bO"
      },
      "source": [
        "# (3) Loading and previewing the given dataset"
      ]
    },
    {
      "cell_type": "code",
      "metadata": {
        "id": "0EDfZeDmxBGO",
        "outputId": "ef044ea4-83d3-4c7c-e094-252cfb5bfd85",
        "colab": {
          "base_uri": "https://localhost:8080/",
          "height": 197
        }
      },
      "source": [
        "#Will read the necessary .csv files\n",
        "\n",
        "LocationCSV =r'/content/SentimentTweets.csv'                  \n",
        "\n",
        "tweets = pd.read_csv(LocationCSV, low_memory=False, quoting=csv.QUOTE_NONE, encoding='utf-8',  error_bad_lines=False)                             #Read csv file"
      ],
      "execution_count": 3,
      "outputs": [
        {
          "output_type": "stream",
          "text": [
            "IOPub data rate exceeded.\n",
            "The notebook server will temporarily stop sending output\n",
            "to the client in order to avoid crashing it.\n",
            "To change this limit, set the config variable\n",
            "`--NotebookApp.iopub_data_rate_limit`.\n",
            "\n",
            "Current values:\n",
            "NotebookApp.iopub_data_rate_limit=1000000.0 (bytes/sec)\n",
            "NotebookApp.rate_limit_window=3.0 (secs)\n",
            "\n"
          ],
          "name": "stderr"
        }
      ]
    },
    {
      "cell_type": "markdown",
      "metadata": {
        "id": "yl5KUWruA-zm"
      },
      "source": [
        "# (4) Preprocessing and cleaning the data"
      ]
    },
    {
      "cell_type": "code",
      "metadata": {
        "id": "-1WHx8qpBKWK",
        "outputId": "34778303-8aa0-448a-da62-8ac1603012b3",
        "colab": {
          "base_uri": "https://localhost:8080/",
          "height": 204
        }
      },
      "source": [
        "tweets = cleanCSV(tweets)\n",
        "tweets.head()"
      ],
      "execution_count": 4,
      "outputs": [
        {
          "output_type": "execute_result",
          "data": {
            "text/html": [
              "<div>\n",
              "<style scoped>\n",
              "    .dataframe tbody tr th:only-of-type {\n",
              "        vertical-align: middle;\n",
              "    }\n",
              "\n",
              "    .dataframe tbody tr th {\n",
              "        vertical-align: top;\n",
              "    }\n",
              "\n",
              "    .dataframe thead th {\n",
              "        text-align: right;\n",
              "    }\n",
              "</style>\n",
              "<table border=\"1\" class=\"dataframe\">\n",
              "  <thead>\n",
              "    <tr style=\"text-align: right;\">\n",
              "      <th></th>\n",
              "      <th>text</th>\n",
              "      <th>sentiment</th>\n",
              "    </tr>\n",
              "  </thead>\n",
              "  <tbody>\n",
              "    <tr>\n",
              "      <th>0</th>\n",
              "      <td>#brokenpromises...</td>\n",
              "      <td>negative</td>\n",
              "    </tr>\n",
              "    <tr>\n",
              "      <th>1</th>\n",
              "      <td>David Carradine  so sad. Thai's law not sure i...</td>\n",
              "      <td>negative</td>\n",
              "    </tr>\n",
              "    <tr>\n",
              "      <th>2</th>\n",
              "      <td>A @ 415 B @ 425. Tell your bro i say congrats!</td>\n",
              "      <td>positive</td>\n",
              "    </tr>\n",
              "    <tr>\n",
              "      <th>3</th>\n",
              "      <td>@littlefluffycat  Indeed.</td>\n",
              "      <td>positive</td>\n",
              "    </tr>\n",
              "    <tr>\n",
              "      <th>4</th>\n",
              "      <td>Completed Race 4 Life in 58mins with girlies f...</td>\n",
              "      <td>positive</td>\n",
              "    </tr>\n",
              "  </tbody>\n",
              "</table>\n",
              "</div>"
            ],
            "text/plain": [
              "                                                text sentiment\n",
              "0                                #brokenpromises...   negative\n",
              "1  David Carradine  so sad. Thai's law not sure i...  negative\n",
              "2    A @ 415 B @ 425. Tell your bro i say congrats!   positive\n",
              "3                          @littlefluffycat  Indeed.  positive\n",
              "4  Completed Race 4 Life in 58mins with girlies f...  positive"
            ]
          },
          "metadata": {
            "tags": []
          },
          "execution_count": 4
        }
      ]
    },
    {
      "cell_type": "code",
      "metadata": {
        "id": "MzTyqgfDbr1P"
      },
      "source": [
        "#Converting the text to lowercase\n",
        "\n",
        "tweets['text'] = tweets['text'].apply(lambda x: str(x).lower())\n",
        "tweets['text'] = tweets['text'].apply(lambda x: BeautifulSoup(x, 'lxml').get_text().strip())        #Removing HTML Tags"
      ],
      "execution_count": 5,
      "outputs": []
    },
    {
      "cell_type": "code",
      "metadata": {
        "id": "zNV1A1P5excx"
      },
      "source": [
        "tweets.head(10)\n",
        "tweets['text'] = tweets['text'].apply(lambda x: RemoveSpecialCharacters(x))"
      ],
      "execution_count": 6,
      "outputs": []
    },
    {
      "cell_type": "code",
      "metadata": {
        "id": "cUD78qMRmZLJ"
      },
      "source": [
        "X = tweets['text']\n",
        "y = tweets['sentiment']\n",
        "\n",
        "X_train, X_test, y_train, y_test = train_test_split(X, y , test_size=0.2, random_state=42, stratify=y)"
      ],
      "execution_count": 7,
      "outputs": []
    },
    {
      "cell_type": "markdown",
      "metadata": {
        "id": "7acZU8M05cnO"
      },
      "source": [
        "# (5) BoW & Tf-Idf Methods."
      ]
    },
    {
      "cell_type": "code",
      "metadata": {
        "id": "G3G5h3Bo5lvP",
        "outputId": "4a868935-8bca-4ecd-9e50-fc4235ae751c",
        "colab": {
          "base_uri": "https://localhost:8080/",
          "height": 665
        }
      },
      "source": [
        "from sklearn.metrics import classification_report\n",
        "import re\n",
        "from bs4 import BeautifulSoup\n",
        "import en_core_web_sm\n",
        "nlp = en_core_web_sm.load()\n",
        "VecMethods = [CountVectorizer, TfidfVectorizer]\n",
        "\n",
        "def print_Scores(Y_pred,Y_test):\n",
        "\n",
        "    print(\"Accuracy for Logistic Regression Method: ,   \"  ,accuracy_score(Y_test,Y_pred))\n",
        "    print(\"Precision for Logistic Regression Method:,   \" ,precision_score(Y_test,Y_pred, average='weighted'))\n",
        "    print(\"Recall for Logistic Regression Method:   ,   \", recall_score(Y_test,Y_pred, average='weighted'))\n",
        "    print(\"F1 for Logistic Regression Method:       ,   \", f1_score(Y_test,Y_pred, average='weighted') , \"\\n\\n\")\n",
        "\n",
        "def printMethod(i):\n",
        "\n",
        "  if(i==0):\n",
        "    return \"BoW\"\n",
        "  else:\n",
        "    return \"Tf-idf\"\n",
        "\n",
        "clf_lr = LogisticRegression(max_iter=1000)\n",
        "\n",
        "for i in range(len(VecMethods)):\n",
        "\n",
        "  X_train, X_test, y_train, y_test = train_test_split(X, y , test_size=0.2, random_state=42, stratify=y)\n",
        "  print(\"For vectorizing method:\", printMethod(i),\", we have the follows:\\n \\n\")\n",
        "  X_train, Y_train, X_test, Y_test = Word_Vectorizer(X_train, y_train, X_test, y_test, VecMethods[i])\n",
        "\n",
        "  clf_lr.fit(X_train,y_train)\n",
        "  y_test_pred = clf_lr.predict(X_test)\n",
        "  print_Scores(y_test_pred,y_test)\n",
        "  print(classification_report(y_test,y_test_pred))"
      ],
      "execution_count": 8,
      "outputs": [
        {
          "output_type": "stream",
          "text": [
            "For vectorizing method: BoW , we have the follows:\n",
            " \n",
            "\n",
            "Accuracy for Logistic Regression Method: ,    0.7973808949947778\n",
            "Precision for Logistic Regression Method:,    0.7975425271439927\n",
            "Recall for Logistic Regression Method:   ,    0.7973808949947778\n",
            "F1 for Logistic Regression Method:       ,    0.7973914964828311 \n",
            "\n",
            "\n",
            "              precision    recall  f1-score   support\n",
            "\n",
            "    negative       0.81      0.79      0.80     31583\n",
            "    positive       0.79      0.80      0.80     30652\n",
            "\n",
            "    accuracy                           0.80     62235\n",
            "   macro avg       0.80      0.80      0.80     62235\n",
            "weighted avg       0.80      0.80      0.80     62235\n",
            "\n",
            "For vectorizing method: Tf-idf , we have the follows:\n",
            " \n",
            "\n",
            "Accuracy for Logistic Regression Method: ,    0.8001446131597976\n",
            "Precision for Logistic Regression Method:,    0.8001762300011308\n",
            "Recall for Logistic Regression Method:   ,    0.8001446131597976\n",
            "F1 for Logistic Regression Method:       ,    0.8001521580646012 \n",
            "\n",
            "\n",
            "              precision    recall  f1-score   support\n",
            "\n",
            "    negative       0.81      0.80      0.80     31583\n",
            "    positive       0.80      0.80      0.80     30652\n",
            "\n",
            "    accuracy                           0.80     62235\n",
            "   macro avg       0.80      0.80      0.80     62235\n",
            "weighted avg       0.80      0.80      0.80     62235\n",
            "\n"
          ],
          "name": "stdout"
        }
      ]
    },
    {
      "cell_type": "markdown",
      "metadata": {
        "id": "ZKAFsPcltnqm"
      },
      "source": [
        "For **tf-idf** we can see a slightly better behaviour, than the **BoW**. This dataset can be much more better, if we apply *feature scaling* , *feature engineering* and maybe some *standardization*."
      ]
    }
  ]
}
