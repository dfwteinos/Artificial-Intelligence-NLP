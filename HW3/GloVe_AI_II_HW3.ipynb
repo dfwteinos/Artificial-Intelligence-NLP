{
  "nbformat": 4,
  "nbformat_minor": 0,
  "metadata": {
    "colab": {
      "name": "GloVe AI-II-HW3.ipynb",
      "provenance": [],
      "collapsed_sections": [],
      "toc_visible": true
    },
    "kernelspec": {
      "display_name": "Python 3",
      "name": "python3"
    }
  },
  "cells": [
    {
      "cell_type": "markdown",
      "metadata": {
        "id": "vte6gdZ13TZc"
      },
      "source": [
        "# Main idea.\n",
        "\n",
        "The main idea for this project, is to develop a sentiment classifier using **RNN** for the [Twitter sentiment analysis dataset](https://drive.google.com/file/d/1dTIWNpjlrnTQBIQtaGOh0jCRYZiAQO79/view), with LSTM/GRU cells. \n",
        "\n",
        "We'll do some expirements with all the possible hyperparameters, like the number of hidden layers, activation functions, loss functions, optimizers, etc. <!-- Also, we'll use pre-trained word embendding vectors, using [GloVe](https://nlp.stanford.edu/projects/glove/). -->"
      ]
    },
    {
      "cell_type": "markdown",
      "metadata": {
        "id": "9sf4QdMjkRKN"
      },
      "source": [
        "# (1) Preprocess Dataset:\n"
      ]
    },
    {
      "cell_type": "markdown",
      "metadata": {
        "id": "TSpVJXHMljCb"
      },
      "source": [
        "Here, all the data preprocessing, such as text cleaning and dropping empty lines will take place. First, let's load and see the raw data."
      ]
    },
    {
      "cell_type": "code",
      "metadata": {
        "id": "QAevVUYr0EFB"
      },
      "source": [
        "import pandas as pd\n",
        "from pandas import read_csv\n",
        "import csv"
      ],
      "execution_count": 1,
      "outputs": []
    },
    {
      "cell_type": "code",
      "metadata": {
        "colab": {
          "base_uri": "https://localhost:8080/",
          "height": 198
        },
        "id": "BuwMzrwrlxWJ",
        "outputId": "2bac3d65-70a4-41ab-816b-7dae3f767247"
      },
      "source": [
        "LocationCSV = r'/content/SentimentTweets.csv'\n",
        "tweets = pd.read_csv(LocationCSV, low_memory=False , quoting=csv.QUOTE_NONE, encoding='utf-8',  warn_bad_lines=False, error_bad_lines=False);   #Read csv file\n",
        "tweets.head()"
      ],
      "execution_count": 2,
      "outputs": [
        {
          "output_type": "execute_result",
          "data": {
            "text/html": [
              "<div>\n",
              "<style scoped>\n",
              "    .dataframe tbody tr th:only-of-type {\n",
              "        vertical-align: middle;\n",
              "    }\n",
              "\n",
              "    .dataframe tbody tr th {\n",
              "        vertical-align: top;\n",
              "    }\n",
              "\n",
              "    .dataframe thead th {\n",
              "        text-align: right;\n",
              "    }\n",
              "</style>\n",
              "<table border=\"1\" class=\"dataframe\">\n",
              "  <thead>\n",
              "    <tr style=\"text-align: right;\">\n",
              "      <th></th>\n",
              "      <th>Unnamed: 0</th>\n",
              "      <th>target</th>\n",
              "      <th>id</th>\n",
              "      <th>date</th>\n",
              "      <th>flag</th>\n",
              "      <th>user</th>\n",
              "      <th>text</th>\n",
              "    </tr>\n",
              "  </thead>\n",
              "  <tbody>\n",
              "    <tr>\n",
              "      <th>0</th>\n",
              "      <td>680949</td>\n",
              "      <td>0</td>\n",
              "      <td>2249621587</td>\n",
              "      <td>Fri Jun 19 22:41:08 PDT 2009</td>\n",
              "      <td>NO_QUERY</td>\n",
              "      <td>sukumarpant</td>\n",
              "      <td>#brokenpromises...</td>\n",
              "    </tr>\n",
              "    <tr>\n",
              "      <th>1</th>\n",
              "      <td>406741</td>\n",
              "      <td>0</td>\n",
              "      <td>2059003515</td>\n",
              "      <td>Sat Jun 06 16:03:21 PDT 2009</td>\n",
              "      <td>NO_QUERY</td>\n",
              "      <td>MTMSparrow</td>\n",
              "      <td>David Carradine  so sad. Thai's law not sure i...</td>\n",
              "    </tr>\n",
              "    <tr>\n",
              "      <th>2</th>\n",
              "      <td>1337108</td>\n",
              "      <td>4</td>\n",
              "      <td>2017466467</td>\n",
              "      <td>Wed Jun 03 08:26:14 PDT 2009</td>\n",
              "      <td>NO_QUERY</td>\n",
              "      <td>itsmemcee</td>\n",
              "      <td>A @ 415 B @ 425. Tell your bro i say congrats!</td>\n",
              "    </tr>\n",
              "    <tr>\n",
              "      <th>3</th>\n",
              "      <td>1560887</td>\n",
              "      <td>4</td>\n",
              "      <td>2186457254</td>\n",
              "      <td>Mon Jun 15 18:52:04 PDT 2009</td>\n",
              "      <td>NO_QUERY</td>\n",
              "      <td>jdfreivald</td>\n",
              "      <td>@littlefluffycat  Indeed.</td>\n",
              "    </tr>\n",
              "    <tr>\n",
              "      <th>4</th>\n",
              "      <td>1466295</td>\n",
              "      <td>4</td>\n",
              "      <td>2064458395</td>\n",
              "      <td>Sun Jun 07 06:19:20 PDT 2009</td>\n",
              "      <td>NO_QUERY</td>\n",
              "      <td>CrazyHan</td>\n",
              "      <td>Completed Race 4 Life in 58mins with girlies f...</td>\n",
              "    </tr>\n",
              "  </tbody>\n",
              "</table>\n",
              "</div>"
            ],
            "text/plain": [
              "   Unnamed: 0  ...                                               text\n",
              "0      680949  ...                                #brokenpromises... \n",
              "1      406741  ...  David Carradine  so sad. Thai's law not sure i...\n",
              "2     1337108  ...    A @ 415 B @ 425. Tell your bro i say congrats! \n",
              "3     1560887  ...                          @littlefluffycat  Indeed.\n",
              "4     1466295  ...  Completed Race 4 Life in 58mins with girlies f...\n",
              "\n",
              "[5 rows x 7 columns]"
            ]
          },
          "metadata": {
            "tags": []
          },
          "execution_count": 2
        }
      ]
    },
    {
      "cell_type": "markdown",
      "metadata": {
        "id": "baDTrPy_mWNu"
      },
      "source": [
        "So , the main goal here is to drop all the columns except the ones who contains the sentiment for each tweet. Thus, we'll keep the **target** and the **text** columns. Then, we'll do some text cleaning, in order to have a more appropriate dataset to work with."
      ]
    },
    {
      "cell_type": "code",
      "metadata": {
        "colab": {
          "base_uri": "https://localhost:8080/"
        },
        "id": "htBUXpSp0TOk",
        "outputId": "99d211fb-def0-4916-b7e8-93609a767f2b"
      },
      "source": [
        "import re\n",
        "from bs4 import BeautifulSoup\n",
        "\n",
        "#Natural Language Toolkit\n",
        "import nltk\n",
        "import nltk.corpus\n",
        "\n",
        "nltk.download('stopwords')\n",
        "nltk.download('punkt')\n",
        "nltk.download('wordnet')\n",
        "\n",
        "from nltk.corpus import stopwords\n",
        "from nltk.tokenize import sent_tokenize, word_tokenize\n",
        "from nltk.stem import WordNetLemmatizer\n",
        "from nltk.stem import PorterStemmer \n",
        "stop = stopwords.words('english')"
      ],
      "execution_count": 3,
      "outputs": [
        {
          "output_type": "stream",
          "text": [
            "[nltk_data] Downloading package stopwords to /root/nltk_data...\n",
            "[nltk_data]   Unzipping corpora/stopwords.zip.\n",
            "[nltk_data] Downloading package punkt to /root/nltk_data...\n",
            "[nltk_data]   Unzipping tokenizers/punkt.zip.\n",
            "[nltk_data] Downloading package wordnet to /root/nltk_data...\n",
            "[nltk_data]   Unzipping corpora/wordnet.zip.\n"
          ],
          "name": "stdout"
        }
      ]
    },
    {
      "cell_type": "code",
      "metadata": {
        "id": "CI841vRmnBG6"
      },
      "source": [
        "def sum1forline(filename):                                                      #Calculating the rows in a csv file\n",
        "    with open(filename) as f:\n",
        "        total_lines = sum(1 for line in f)\n",
        "    \n",
        "    print(\"We have:\", total_lines ,\"rows in total\")"
      ],
      "execution_count": 4,
      "outputs": []
    },
    {
      "cell_type": "code",
      "metadata": {
        "id": "yRu5YrbOnR0y"
      },
      "source": [
        "def cleanCSV(tweets):                                                           #Drop useless columns\n",
        "  \n",
        "  df = tweets[['target','text']]\n",
        "  df.shape\n",
        "  columns_titles = [\"text\",\"target\"]\n",
        "  df=df.reindex(columns=columns_titles)\n",
        "  df.columns = ['text', 'sentiment']\n",
        "  df.shape\n",
        "  df.loc[df[\"sentiment\"]==4 , \"sentiment\"] = 'positive'\n",
        "  df.loc[df['sentiment']==0 , \"sentiment\"] = 'negative'\n",
        "  df.shape\n",
        "  return df"
      ],
      "execution_count": 5,
      "outputs": []
    },
    {
      "cell_type": "code",
      "metadata": {
        "id": "qbqLPEoozvNM"
      },
      "source": [
        "def cleanText(tweets):\n",
        "  tweets['text'] = tweets['text'].apply(lambda x: str(x).lower())                                                 #Make the text in lowercase\n",
        "\n",
        "  tweets['text'] = tweets['text'].apply(lambda x: BeautifulSoup(x, 'lxml').get_text().strip())                    #Removing HTML Tags\n",
        "\n",
        "  tweets['text'] = tweets['text'].apply(lambda x: RemoveSpecialCharacters(x))                                     #Remove special characters (#!@%*& etc)\n",
        "\n",
        "  tweets['text'] = tweets['text'].apply(lambda x: ' '.join([word for word in x.split() if word not in (stop)]))   #Removing stopwords\n",
        "\n",
        "  tweets['text'] = tweets['text'].apply(lambda x: removeNumbers(x))                                               #Removing numbers\n",
        "\n",
        "  #Steeming: \"rained\" , \"raining\" , \"rain\" converting into: \"rain\".\n",
        "\n",
        "  tweets['text_tokens'] = tweets['text'].apply(lambda x: word_tokenize(x))\n",
        "  #Uncomment the next lines if you want to choose steeming over leematization\n",
        "\n",
        "  # <-->\n",
        "  tweets['text_tokens_final'] = tweets['text_tokens'].apply(lambda x: word_stemmer(x))\n",
        "  # <-->\n",
        "\n",
        "  #Leematization: \"rocks\" : rock , \"corpora\" : corpus, \"better\" : good.\n",
        "  #Comment the next line if you want to choose steeming over leematization\n",
        "\n",
        "  # <-->\n",
        "  # tweets['text_tokens_final'] = tweets['text_tokens'].apply(lambda x: word_lemmatizer(x))\n",
        "  # <-->\n",
        "\n",
        "  #Final text\n",
        "\n",
        "  tweets['final_text'] = tweets['text_tokens_final'].apply(lambda x: list2string(x))\n",
        "\n",
        "  tweets['final_text'] =  tweets['final_text'].apply(lambda x: re.sub(r\"\\b[a-zA-Z]\\b\", \"\", x))                      #Remove all the single characters from a string\n",
        "\n",
        "  tweets['final_text'] = tweets['final_text'].apply(lambda x: re.sub(' +', ' ', x))                                 #Replace multiple whitespaces\n",
        "\n",
        "  #Clean the csv file from odd columns\n",
        "  tweets = tweets.drop(['text', 'text_tokens', 'text_tokens_final'], axis=1)\n",
        "  \n",
        "  columns_titles = [\"final_text\",\"sentiment\"]\n",
        "  tweets=tweets.reindex(columns=columns_titles)\n",
        "\n",
        "  tweets.columns= ['text', 'sentiment']                        \n",
        "\n",
        "  return tweets\n",
        "\n",
        "def removeNumbers(text):\n",
        "  result = ''.join([i for i in text if not i.isdigit()])\n",
        "  return result\n",
        "\n",
        "def RemoveSpecialCharacters(x):\n",
        "\n",
        "  cleanString = re.sub('\\W+',' ', x )\n",
        "  cleanString= ' '.join(cleanString.split())\n",
        "  return cleanString\n",
        "\n",
        "def word_stemmer(text):\n",
        "    stem_text = [PorterStemmer().stem(i) for i in text]\n",
        "    return stem_text\n",
        "\n",
        "def word_lemmatizer(text):\n",
        "    lem_text = [WordNetLemmatizer().lemmatize(i) for i in text]\n",
        "    return lem_text\n",
        "\n",
        "def list2string(list):\n",
        "  # initialize an empty string \n",
        "  str1 = \" \" \n",
        "    \n",
        "  # return string   \n",
        "  return (str1.join(list)) "
      ],
      "execution_count": 6,
      "outputs": []
    },
    {
      "cell_type": "code",
      "metadata": {
        "colab": {
          "base_uri": "https://localhost:8080/",
          "height": 216
        },
        "id": "CXKkIw9wnaeW",
        "outputId": "2919e784-ce34-44b0-d689-e0a874d118f3"
      },
      "source": [
        "sum1forline(LocationCSV)\n",
        "tweets = cleanCSV(tweets)\n",
        "tweets = cleanText(tweets)\n",
        "tweets.head()"
      ],
      "execution_count": 7,
      "outputs": [
        {
          "output_type": "stream",
          "text": [
            "We have: 86682 rows in total\n"
          ],
          "name": "stdout"
        },
        {
          "output_type": "execute_result",
          "data": {
            "text/html": [
              "<div>\n",
              "<style scoped>\n",
              "    .dataframe tbody tr th:only-of-type {\n",
              "        vertical-align: middle;\n",
              "    }\n",
              "\n",
              "    .dataframe tbody tr th {\n",
              "        vertical-align: top;\n",
              "    }\n",
              "\n",
              "    .dataframe thead th {\n",
              "        text-align: right;\n",
              "    }\n",
              "</style>\n",
              "<table border=\"1\" class=\"dataframe\">\n",
              "  <thead>\n",
              "    <tr style=\"text-align: right;\">\n",
              "      <th></th>\n",
              "      <th>text</th>\n",
              "      <th>sentiment</th>\n",
              "    </tr>\n",
              "  </thead>\n",
              "  <tbody>\n",
              "    <tr>\n",
              "      <th>0</th>\n",
              "      <td>brokenpromis</td>\n",
              "      <td>negative</td>\n",
              "    </tr>\n",
              "    <tr>\n",
              "      <th>1</th>\n",
              "      <td>david carradin sad thai law sure fowl play man...</td>\n",
              "      <td>negative</td>\n",
              "    </tr>\n",
              "    <tr>\n",
              "      <th>2</th>\n",
              "      <td>tell bro say congrat</td>\n",
              "      <td>positive</td>\n",
              "    </tr>\n",
              "    <tr>\n",
              "      <th>3</th>\n",
              "      <td>littlefluffycat inde</td>\n",
              "      <td>positive</td>\n",
              "    </tr>\n",
              "    <tr>\n",
              "      <th>4</th>\n",
              "      <td>complet race life min girli work fun bloodi ho...</td>\n",
              "      <td>positive</td>\n",
              "    </tr>\n",
              "  </tbody>\n",
              "</table>\n",
              "</div>"
            ],
            "text/plain": [
              "                                                text sentiment\n",
              "0                                       brokenpromis  negative\n",
              "1  david carradin sad thai law sure fowl play man...  negative\n",
              "2                               tell bro say congrat  positive\n",
              "3                               littlefluffycat inde  positive\n",
              "4  complet race life min girli work fun bloodi ho...  positive"
            ]
          },
          "metadata": {
            "tags": []
          },
          "execution_count": 7
        }
      ]
    },
    {
      "cell_type": "markdown",
      "metadata": {
        "id": "94N8kzlrAQwc"
      },
      "source": [
        "Now, we must split our dataset into:\n",
        "\n",
        "*   Training dataset\n",
        "*   Validation dataset\n",
        "*   Test dataset\n",
        "\n",
        "The most part from the tweets, will be donated to test dataset. To be more specific, 90% of the dataset will be given into test. The other 10%, will be given to train and valid. From this 10%, each dataset will take 80% and 20% share, respectively."
      ]
    },
    {
      "cell_type": "code",
      "metadata": {
        "id": "bcyjL3t6_NcV"
      },
      "source": [
        "from sklearn.model_selection import train_test_split"
      ],
      "execution_count": 8,
      "outputs": []
    },
    {
      "cell_type": "code",
      "metadata": {
        "id": "jmfEuqg511_A"
      },
      "source": [
        "df_raw = tweets \n",
        "\n",
        "# Convert Positive = 1 and Negative = 0 \n",
        "df_raw['sentiment'] = (df_raw['sentiment'] == 'positive').astype('int')\n",
        "\n",
        "# Remove empty sentences\n",
        "df_raw.drop( df_raw[df_raw.text.str.len() < 1].index, inplace=True)\n",
        "\n",
        "# Split according to label\n",
        "df_positive = df_raw[df_raw['sentiment'] == 1]\n",
        "df_negative = df_raw[df_raw['sentiment'] == 0]\n",
        "\n",
        "# Train-test-split\n",
        "\n",
        "train_test_ratio  = 0.10\n",
        "train_valid_ratio = 0.80\n",
        "\n",
        "df_positive_full_train, df_positive_test = train_test_split(df_positive, train_size = train_test_ratio, random_state=42)\n",
        "df_negative_full_train, df_negative_test = train_test_split(df_negative, train_size = train_test_ratio, random_state=42)\n",
        "\n",
        "# Train-valid-split\n",
        "\n",
        "df_positive_train, df_positive_valid = train_test_split(df_positive_full_train, train_size = train_valid_ratio, random_state=42)\n",
        "df_negative_train, df_negative_valid = train_test_split(df_negative_full_train, train_size = train_valid_ratio, random_state=42)\n",
        "\n",
        "# Concatenate splits of different labels\n",
        "\n",
        "df_train = pd.concat([df_positive_train, df_negative_train], ignore_index=True, sort=False)\n",
        "df_valid = pd.concat([df_positive_valid, df_negative_valid], ignore_index=True, sort=False)\n",
        "df_test  = pd.concat([df_positive_test, df_negative_test], ignore_index=True, sort=False)\n",
        "\n",
        "# Write preprocessed data\n",
        "\n",
        "df_train.to_csv('/content' +'/train.csv', index=False)\n",
        "df_valid.to_csv('/content' +'/valid.csv', index=False)\n",
        "df_test.to_csv('/content' +'/test.csv', index=False)"
      ],
      "execution_count": 9,
      "outputs": []
    },
    {
      "cell_type": "markdown",
      "metadata": {
        "id": "zKAMi1njBJ7i"
      },
      "source": [
        "# (2) Importing Libraries"
      ]
    },
    {
      "cell_type": "code",
      "metadata": {
        "id": "POosPnM5Bn55"
      },
      "source": [
        "import matplotlib.pyplot as plt\n",
        "import torch\n",
        "\n",
        "# Preliminaries\n",
        "\n",
        "from torchtext.data import Field, TabularDataset, BucketIterator\n",
        "from torchtext import data\n",
        "from torchtext import datasets\n",
        "\n",
        "# Models\n",
        "\n",
        "import torch.nn as nn\n",
        "from torch.nn.utils.rnn import pack_padded_sequence, pad_packed_sequence\n",
        "\n",
        "# Training\n",
        "\n",
        "import torch.optim as optim\n",
        "\n",
        "# Evaluation\n",
        "\n",
        "from sklearn.metrics import accuracy_score, classification_report, confusion_matrix\n",
        "import seaborn as sns"
      ],
      "execution_count": 10,
      "outputs": []
    },
    {
      "cell_type": "markdown",
      "metadata": {
        "id": "2jW0HRnBKtCL"
      },
      "source": [
        "In order to maximize the speed of our programm, we are going to use the given GPU from google colab."
      ]
    },
    {
      "cell_type": "code",
      "metadata": {
        "id": "adPDhJvSKyE8"
      },
      "source": [
        "def use_device():\n",
        "\n",
        "  if torch.cuda.is_available():       \n",
        "    device = torch.device(\"cuda\")\n",
        "    print(f'There are {torch.cuda.device_count()} GPU(s) available.')\n",
        "    print('Device name:', torch.cuda.get_device_name(0))\n",
        "\n",
        "  else:\n",
        "    print('No GPU available, using the CPU instead.')\n",
        "    device = torch.device(\"cpu\")\n",
        "\n",
        "  device = torch.device(\"cuda\" if torch.cuda.is_available() else \"cpu\")\n",
        "  print(\"Device available for running: \")\n",
        "  print(device)\n",
        "  return device"
      ],
      "execution_count": 11,
      "outputs": []
    },
    {
      "cell_type": "markdown",
      "metadata": {
        "id": "-7_lnlazCSJB"
      },
      "source": [
        "# (3) Load and Convert Dataset"
      ]
    },
    {
      "cell_type": "code",
      "metadata": {
        "id": "ClmN9XFMCXYO"
      },
      "source": [
        "sentiment_field = Field(sequential=False, use_vocab=False, batch_first=True, dtype=torch.float)\n",
        "text_field  = Field(tokenize='spacy', lower=True, include_lengths=True, batch_first=True)\n",
        "fields      = [('text', text_field), ('sentiment', sentiment_field )]"
      ],
      "execution_count": 12,
      "outputs": []
    },
    {
      "cell_type": "markdown",
      "metadata": {
        "id": "esJl24ZgDZLE"
      },
      "source": [
        "Tabular Datasets contain data in a columnar format as in a database table. Each column (field) must have a name and each column may only contain data of one type. We'll build a TabularDataset by pointing it to the path containing the *train.csv, valid.csv, * and *test.csv* dataset files."
      ]
    },
    {
      "cell_type": "code",
      "metadata": {
        "id": "0BnOjIMHDnZ0"
      },
      "source": [
        "train, valid, test = TabularDataset.splits(path='/content', \n",
        "                                          train='train.csv',\n",
        "                                          validation='valid.csv',\n",
        "                                          test='test.csv',\n",
        "                                          format='CSV',\n",
        "                                          fields=fields,\n",
        "                                          skip_header=True)"
      ],
      "execution_count": 13,
      "outputs": []
    },
    {
      "cell_type": "markdown",
      "metadata": {
        "id": "RD3Ak1NEETAJ"
      },
      "source": [
        "We create the train,valid and test iterators that load the data, and finally, build the vocabulary using the train iterator (counting only the tokens with a minimum frequency of 3)."
      ]
    },
    {
      "cell_type": "code",
      "metadata": {
        "colab": {
          "base_uri": "https://localhost:8080/"
        },
        "id": "6GAvmf8SMH66",
        "outputId": "17266f48-ee07-436b-dbb0-0f520f85ebf4"
      },
      "source": [
        "device = use_device()"
      ],
      "execution_count": 27,
      "outputs": [
        {
          "output_type": "stream",
          "text": [
            "No GPU available, using the CPU instead.\n",
            "Device available for running: \n",
            "cpu\n"
          ],
          "name": "stdout"
        }
      ]
    },
    {
      "cell_type": "code",
      "metadata": {
        "id": "3liEWIrQEdvR"
      },
      "source": [
        "train_iter = BucketIterator(train,\n",
        "                            batch_size=32,\n",
        "                            sort_key=lambda x: len(x.text),\n",
        "                            device=device,\n",
        "                            sort=True,\n",
        "                            sort_within_batch=True)\n",
        "\n",
        "\n",
        "valid_iter = BucketIterator(valid,\n",
        "                            batch_size=32,\n",
        "                            sort_key=lambda x: len(x.text),\n",
        "                            device=device,\n",
        "                            sort=True,\n",
        "                            sort_within_batch=True)\n",
        "\n",
        "\n",
        "test_iter = BucketIterator(test,\n",
        "                           batch_size=32,\n",
        "                           sort_key=lambda x: len(x.text),\n",
        "                           device=device,\n",
        "                           sort=True,\n",
        "                           sort_within_batch=True)"
      ],
      "execution_count": 15,
      "outputs": []
    },
    {
      "cell_type": "markdown",
      "metadata": {
        "id": "CGrUykW0zEwN"
      },
      "source": [
        "# (4) Importing GloVe Embeddings"
      ]
    },
    {
      "cell_type": "markdown",
      "metadata": {
        "id": "vAP0t6SpSeSx"
      },
      "source": [
        "The main idea behind the GloVe , is to use pre-trained embeddings. Thus, we'll have some pre-trained words, with their vector representation. Here, we are taking our vocabulary and we are concatenating it with the GloVe words. We also demand the minimum frequency of each word inside our vocab, to be 3."
      ]
    },
    {
      "cell_type": "code",
      "metadata": {
        "id": "ug-kLXAGFo4_",
        "colab": {
          "base_uri": "https://localhost:8080/"
        },
        "outputId": "44cfad89-05de-4444-bc5c-92391818a6de"
      },
      "source": [
        "text_field.build_vocab(train, vectors = 'glove.twitter.27B.50d', min_freq=3)"
      ],
      "execution_count": 16,
      "outputs": [
        {
          "output_type": "stream",
          "text": [
            ".vector_cache/glove.twitter.27B.zip: 1.52GB [11:43, 2.16MB/s]                            \n",
            "100%|█████████▉| 1193375/1193514 [00:32<00:00, 38434.88it/s]"
          ],
          "name": "stderr"
        }
      ]
    },
    {
      "cell_type": "markdown",
      "metadata": {
        "id": "qv9t3LWVMV5s"
      },
      "source": [
        "# (5) Building the model"
      ]
    },
    {
      "cell_type": "markdown",
      "metadata": {
        "id": "dzR_vrTnMfMb"
      },
      "source": [
        "As we said , we'll build an bidirectional LSTM Model. Also, we are going to use an Embedding layer. The LSTM Model is performing slightly better than the RNN one."
      ]
    },
    {
      "cell_type": "code",
      "metadata": {
        "id": "ga4uLKOYNDCH"
      },
      "source": [
        "class LSTM(nn.Module):\n",
        "\n",
        "  def __init__(self, dimension=128):\n",
        "    super(LSTM, self).__init__()\n",
        "\n",
        "    self.embedding = nn.Embedding(len(text_field.vocab), 40)\n",
        "    self.dimension = dimension\n",
        "    self.lstm      = nn.LSTM(input_size = 40,\n",
        "                             hidden_size = dimension,\n",
        "                             num_layers = 1,\n",
        "                             batch_first=True,\n",
        "                             bidirectional=True)\n",
        "    \n",
        "    self.drop = nn.Dropout(p = 0.5)                                             #In order to minimize the overfit\n",
        "\n",
        "    self.fc = nn.Linear(2*dimension, 1)\n",
        "\n",
        "  def forward(self, text, text_len):\n",
        "\n",
        "    text_emb = self.embedding(text)\n",
        "\n",
        "    packed_input = pack_padded_sequence(text_emb, text_len, batch_first=True, enforce_sorted=False)\n",
        "    packed_output, _ = self.lstm(packed_input)\n",
        "    output, _ = pad_packed_sequence(packed_output, batch_first=True)\n",
        "\n",
        "    out_forward = output[range(len(output)), text_len - 1, :self.dimension]\n",
        "    out_reverse = output[:, 0, self.dimension:]\n",
        "    out_reduced = torch.cat((out_forward, out_reverse), 1)\n",
        "    text_fea = self.drop(out_reduced)\n",
        "\n",
        "    text_fea = self.fc(text_fea)\n",
        "    text_fea = torch.squeeze(text_fea,1)\n",
        "    text_out = torch.sigmoid(text_fea)\n",
        "\n",
        "    return text_out"
      ],
      "execution_count": 17,
      "outputs": []
    },
    {
      "cell_type": "markdown",
      "metadata": {
        "id": "ymQfrD5UOSLx"
      },
      "source": [
        "# (6) Training"
      ]
    },
    {
      "cell_type": "markdown",
      "metadata": {
        "id": "k4Jf65bST61u"
      },
      "source": [
        "We'll use also some function in order to save some version of our models through the training part."
      ]
    },
    {
      "cell_type": "code",
      "metadata": {
        "id": "gjLKjh6FOUva"
      },
      "source": [
        "def save_checkpoint(save_path, model, optimizer, valid_loss):\n",
        "\n",
        "    if save_path == None:\n",
        "        return\n",
        "    \n",
        "    state_dict = {'model_state_dict': model.state_dict(),\n",
        "                  'optimizer_state_dict': optimizer.state_dict(),\n",
        "                  'valid_loss': valid_loss}\n",
        "    \n",
        "    torch.save(state_dict, save_path)\n",
        "    print(f'Model saved to ==> {save_path}')"
      ],
      "execution_count": 18,
      "outputs": []
    },
    {
      "cell_type": "code",
      "metadata": {
        "id": "hwzr0rRmOaAa"
      },
      "source": [
        "def load_checkpoint(load_path, model, optimizer):\n",
        "\n",
        "    if load_path==None:\n",
        "        return\n",
        "    \n",
        "    state_dict = torch.load(load_path, map_location=device)\n",
        "    print(f'Model loaded from <== {load_path}')\n",
        "    \n",
        "    model.load_state_dict(state_dict['model_state_dict'])\n",
        "    optimizer.load_state_dict(state_dict['optimizer_state_dict'])\n",
        "    \n",
        "    return state_dict['valid_loss']"
      ],
      "execution_count": 19,
      "outputs": []
    },
    {
      "cell_type": "code",
      "metadata": {
        "id": "gY3S6WNvObv6"
      },
      "source": [
        "def save_metrics(save_path, train_loss_list, valid_loss_list, global_steps_list):\n",
        "\n",
        "    if save_path == None:\n",
        "        return\n",
        "    \n",
        "    state_dict = {'train_loss_list': train_loss_list,\n",
        "                  'valid_loss_list': valid_loss_list,\n",
        "                  'global_steps_list': global_steps_list}\n",
        "    \n",
        "    torch.save(state_dict, save_path)\n",
        "    print(f'Model saved to ==> {save_path}')"
      ],
      "execution_count": 20,
      "outputs": []
    },
    {
      "cell_type": "code",
      "metadata": {
        "id": "GP7n1pdEOd0A"
      },
      "source": [
        "def load_metrics(load_path):\n",
        "\n",
        "    if load_path==None:\n",
        "        return\n",
        "    \n",
        "    state_dict = torch.load(load_path, map_location=device)\n",
        "    print(f'Model loaded from <== {load_path}')\n",
        "    \n",
        "    return state_dict['train_loss_list'], state_dict['valid_loss_list'], state_dict['global_steps_list']\n"
      ],
      "execution_count": 21,
      "outputs": []
    },
    {
      "cell_type": "markdown",
      "metadata": {
        "id": "nq372pNLOnDA"
      },
      "source": [
        "Our training function. After some expirements, we choose the loss function to be the BCELoss. Also, the optimizer is Adam."
      ]
    },
    {
      "cell_type": "code",
      "metadata": {
        "id": "TiHP3gpUOpm3"
      },
      "source": [
        "def train(model,\n",
        "          optimizer,\n",
        "          criterion = nn.BCELoss(),\n",
        "          train_loader = train_iter,\n",
        "          valid_loader = valid_iter,\n",
        "          num_epochs = 5,\n",
        "          eval_every = len(train_iter) // 2,\n",
        "          file_path = '/content',\n",
        "          best_valid_loss = float(\"Inf\")):\n",
        "    \n",
        "    # initialize running values\n",
        "    \n",
        "    running_loss = 0.0\n",
        "    \n",
        "    valid_running_loss = 0.0\n",
        "    \n",
        "    global_step = 0\n",
        "    \n",
        "    train_loss_list = []\n",
        "    \n",
        "    valid_loss_list = []\n",
        "    \n",
        "    global_steps_list = []\n",
        "\n",
        "    # training loop\n",
        "    model.train()\n",
        "    for epoch in range(num_epochs):\n",
        "      \n",
        "        # for (sentiment, (text, text_len)), _ in train_loader:           \n",
        "        for batch in train_loader:\n",
        "\n",
        "            text, text_len = batch.text\n",
        "            target = batch.sentiment\n",
        "\n",
        "            # sentiment = sentiment.to(device)\n",
        "            # text = text.to(device)\n",
        "            # text_len = text_len.to(device)\n",
        "            # print(text_len)\n",
        "            output = model(text, text_len)\n",
        "\n",
        "            loss = criterion(output, target)\n",
        "\n",
        "            optimizer.zero_grad()\n",
        "\n",
        "            loss.backward()\n",
        "\n",
        "            optimizer.step()\n",
        "\n",
        "            # update running values\n",
        "            running_loss += loss.item()\n",
        "            global_step += 1\n",
        "\n",
        "            # evaluation step\n",
        "            if global_step % eval_every == 0:\n",
        "                model.eval()\n",
        "                with torch.no_grad():                    \n",
        "                  # validation loop\n",
        "\n",
        "                  for valid_batch in valid_loader:\n",
        "\n",
        "                    text, text_len = valid_batch.text\n",
        "                    target = valid_batch.sentiment\n",
        "\n",
        "                  # for (sentiment, (text, text_len)), _ in valid_loader:\n",
        "                      # sentiment = sentiment.to(device)\n",
        "                      # text = text.to(device)\n",
        "                      # text_len = text_len.to(device)\n",
        "                    output = model(text, text_len)\n",
        "\n",
        "                    loss = criterion(output, target)\n",
        "                    valid_running_loss += loss.item()\n",
        "\n",
        "                # evaluation\n",
        "                average_train_loss = running_loss / eval_every\n",
        "                average_valid_loss = valid_running_loss / len(valid_loader)\n",
        "                train_loss_list.append(average_train_loss)\n",
        "                valid_loss_list.append(average_valid_loss)\n",
        "                global_steps_list.append(global_step)\n",
        "\n",
        "                # resetting running values\n",
        "                running_loss = 0.0                \n",
        "                valid_running_loss = 0.0\n",
        "                model.train()\n",
        "\n",
        "                # print progress\n",
        "                print('Epoch [{}/{}], Step [{}/{}], Train Loss: {:.4f}, Valid Loss: {:.4f}'\n",
        "                      .format(epoch+1, num_epochs, global_step, num_epochs*len(train_loader),\n",
        "                              average_train_loss, average_valid_loss))\n",
        "                \n",
        "                # checkpoint\n",
        "                if best_valid_loss > average_valid_loss:\n",
        "                    best_valid_loss = average_valid_loss\n",
        "                    save_checkpoint('/content' + '/model.pt', model, optimizer, best_valid_loss)\n",
        "                    save_metrics('/content' + '/metrics.pt', train_loss_list, valid_loss_list, global_steps_list)\n",
        "    \n",
        "    save_metrics('/content' + '/metrics.pt', train_loss_list, valid_loss_list, global_steps_list)\n",
        "    print('Finished Training!')\n",
        "    return train_loss_list, valid_loss_list, global_steps_list"
      ],
      "execution_count": 37,
      "outputs": []
    },
    {
      "cell_type": "code",
      "metadata": {
        "id": "WmPPRDxmO3Qs"
      },
      "source": [
        "learning_rate = 0.001\n",
        "Epochs = 2\n",
        "# loss_func = nn.CrossEntropyLoss()\n",
        "\n",
        "model = LSTM().to(device)\n",
        "optimizer = optim.Adam(model.parameters(), lr=learning_rate)"
      ],
      "execution_count": 38,
      "outputs": []
    },
    {
      "cell_type": "code",
      "metadata": {
        "colab": {
          "base_uri": "https://localhost:8080/"
        },
        "id": "mWutEvwAQTlc",
        "outputId": "e80386e3-2b7e-4fd2-d0e4-a8bb0db6722e"
      },
      "source": [
        "train_lost, val_loss, steps = train(model=model, optimizer=optimizer, num_epochs=Epochs)                    #Maybe GPU is not working, use CPU instead."
      ],
      "execution_count": 56,
      "outputs": [
        {
          "output_type": "stream",
          "text": [
            "Epoch [1/2], Step [1232/4928], Train Loss: 0.5563, Valid Loss: 0.5627\n",
            "Model saved to ==> /content/model.pt\n",
            "Model saved to ==> /content/metrics.pt\n",
            "Epoch [1/2], Step [2464/4928], Train Loss: 0.5499, Valid Loss: 0.5627\n",
            "Epoch [2/2], Step [3696/4928], Train Loss: 0.5562, Valid Loss: 0.5627\n",
            "Epoch [2/2], Step [4928/4928], Train Loss: 0.5508, Valid Loss: 0.5627\n",
            "Model saved to ==> /content/metrics.pt\n",
            "Finished Training!\n"
          ],
          "name": "stdout"
        }
      ]
    },
    {
      "cell_type": "code",
      "metadata": {
        "colab": {
          "base_uri": "https://localhost:8080/",
          "height": 495
        },
        "id": "XBtDQLWToxoz",
        "outputId": "746855ff-e112-4623-f43a-016f5b794ca1"
      },
      "source": [
        "def evaluate(model, test_loader, version='title', threshold=0.5):\n",
        "    y_pred = []\n",
        "    y_true = []\n",
        "\n",
        "    model.eval()\n",
        "    with torch.no_grad():\n",
        "        # for (labels, (title, title_len), (text, text_len), (titletext, titletext_len)), _ in test_loader:           \n",
        "\n",
        "      for batch in test_loader:\n",
        "\n",
        "        text, text_len = batch.text    \n",
        "        target = batch.sentiment\n",
        "\n",
        "        # labels = labels.to(device)\n",
        "        # titletext = titletext.to(device)\n",
        "        # titletext_len = titletext_len.to(device)\n",
        "        output = model(text, text_len)\n",
        "        output = (output > threshold).int()\n",
        "\n",
        "        y_pred.extend(output.tolist())\n",
        "        y_true.extend(target.tolist())\n",
        "    \n",
        "    print('Classification Report:')\n",
        "    print(classification_report(y_true, y_pred, labels=[1,0], digits=4))\n",
        "    \n",
        "    cm = confusion_matrix(y_true, y_pred, labels=[1,0])\n",
        "    ax= plt.subplot()\n",
        "    sns.heatmap(cm, annot=True, ax = ax, cmap='Blues', fmt=\"d\")\n",
        "\n",
        "    ax.set_title('Confusion Matrix')\n",
        "\n",
        "    ax.set_xlabel('Predicted Labels')\n",
        "    ax.set_ylabel('True Labels')\n",
        "\n",
        "    ax.xaxis.set_ticklabels(['Negative', 'Positive'])\n",
        "    ax.yaxis.set_ticklabels(['Negative', 'Positive'])\n",
        "    \n",
        "    \n",
        "best_model = LSTM().to(device)\n",
        "optimizer = optim.Adam(best_model.parameters(), lr=0.001)\n",
        "\n",
        "load_checkpoint('/content' + '/model.pt', best_model, optimizer)\n",
        "evaluate(best_model, test_iter)"
      ],
      "execution_count": 40,
      "outputs": [
        {
          "output_type": "stream",
          "text": [
            "Model loaded from <== /content/model.pt\n",
            "Classification Report:\n",
            "              precision    recall  f1-score   support\n",
            "\n",
            "           1     0.7505    0.6344    0.6876    436060\n",
            "           0     0.6924    0.7960    0.7406    450887\n",
            "\n",
            "    accuracy                         0.7166    886947\n",
            "   macro avg     0.7215    0.7152    0.7141    886947\n",
            "weighted avg     0.7210    0.7166    0.7145    886947\n",
            "\n"
          ],
          "name": "stdout"
        },
        {
          "output_type": "display_data",
          "data": {
            "image/png": "[encoded data removed]",
            "text/plain": [
              "<Figure size 432x288 with 2 Axes>"
            ]
          },
          "metadata": {
            "tags": [],
            "needs_background": "light"
          }
        }
      ]
    },
    {
      "cell_type": "markdown",
      "metadata": {
        "id": "ZYvkf90tZFe7"
      },
      "source": [
        "Below, we are going to see some visual error represenation in between the training and the validation."
      ]
    },
    {
      "cell_type": "code",
      "metadata": {
        "colab": {
          "base_uri": "https://localhost:8080/",
          "height": 313
        },
        "id": "oyq6tyBvZT_C",
        "outputId": "bb54f5b2-6257-4d30-bc1c-f306d088d7dd"
      },
      "source": [
        "train_loss = plt.plot(train_lost, 'r')\n",
        "validation_loss = plt.plot(val_loss, 'b')\n",
        "plt.xlabel('Epochs Steps')\n",
        "plt.ylabel('BCE Loss')\n",
        "# plt.legend([train_loss, validation_loss,], ['train_loss','validation_loss'])\n",
        "\n",
        "plt.title('Blue = val | Red = train')"
      ],
      "execution_count": 60,
      "outputs": [
        {
          "output_type": "execute_result",
          "data": {
            "text/plain": [
              "Text(0.5, 1.0, 'Blue = val | Red = train')"
            ]
          },
          "metadata": {
            "tags": []
          },
          "execution_count": 60
        },
        {
          "output_type": "display_data",
          "data": {
            "image/png": "[encoded data removed]",
            "text/plain": [
              "<Figure size 432x288 with 1 Axes>"
            ]
          },
          "metadata": {
            "tags": [],
            "needs_background": "light"
          }
        }
      ]
    }
  ]
}